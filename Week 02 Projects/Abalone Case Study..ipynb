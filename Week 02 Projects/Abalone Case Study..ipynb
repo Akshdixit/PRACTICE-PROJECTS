{
 "cells": [
  {
   "cell_type": "code",
   "execution_count": 1,
   "id": "03275146",
   "metadata": {},
   "outputs": [],
   "source": [
    "import pandas as pd\n",
    "import numpy as np\n",
    "import seaborn as sea\n",
    "import matplotlib.pyplot as plt\n",
    "from scipy.stats import zscore\n",
    "import warnings\n",
    "warnings.filterwarnings('ignore')"
   ]
  },
  {
   "cell_type": "code",
   "execution_count": 2,
   "id": "c877bd1a",
   "metadata": {},
   "outputs": [
    {
     "data": {
      "text/html": [
       "<div>\n",
       "<style scoped>\n",
       "    .dataframe tbody tr th:only-of-type {\n",
       "        vertical-align: middle;\n",
       "    }\n",
       "\n",
       "    .dataframe tbody tr th {\n",
       "        vertical-align: top;\n",
       "    }\n",
       "\n",
       "    .dataframe thead th {\n",
       "        text-align: right;\n",
       "    }\n",
       "</style>\n",
       "<table border=\"1\" class=\"dataframe\">\n",
       "  <thead>\n",
       "    <tr style=\"text-align: right;\">\n",
       "      <th></th>\n",
       "      <th>Sex</th>\n",
       "      <th>Length</th>\n",
       "      <th>Diameter</th>\n",
       "      <th>Height</th>\n",
       "      <th>Whole weight</th>\n",
       "      <th>Shucked weight</th>\n",
       "      <th>Viscera weight</th>\n",
       "      <th>Shell weight</th>\n",
       "      <th>Rings</th>\n",
       "    </tr>\n",
       "  </thead>\n",
       "  <tbody>\n",
       "    <tr>\n",
       "      <th>0</th>\n",
       "      <td>M</td>\n",
       "      <td>0.455</td>\n",
       "      <td>0.365</td>\n",
       "      <td>0.095</td>\n",
       "      <td>0.5140</td>\n",
       "      <td>0.2245</td>\n",
       "      <td>0.1010</td>\n",
       "      <td>0.1500</td>\n",
       "      <td>15</td>\n",
       "    </tr>\n",
       "    <tr>\n",
       "      <th>1</th>\n",
       "      <td>M</td>\n",
       "      <td>0.350</td>\n",
       "      <td>0.265</td>\n",
       "      <td>0.090</td>\n",
       "      <td>0.2255</td>\n",
       "      <td>0.0995</td>\n",
       "      <td>0.0485</td>\n",
       "      <td>0.0700</td>\n",
       "      <td>7</td>\n",
       "    </tr>\n",
       "    <tr>\n",
       "      <th>2</th>\n",
       "      <td>F</td>\n",
       "      <td>0.530</td>\n",
       "      <td>0.420</td>\n",
       "      <td>0.135</td>\n",
       "      <td>0.6770</td>\n",
       "      <td>0.2565</td>\n",
       "      <td>0.1415</td>\n",
       "      <td>0.2100</td>\n",
       "      <td>9</td>\n",
       "    </tr>\n",
       "    <tr>\n",
       "      <th>3</th>\n",
       "      <td>M</td>\n",
       "      <td>0.440</td>\n",
       "      <td>0.365</td>\n",
       "      <td>0.125</td>\n",
       "      <td>0.5160</td>\n",
       "      <td>0.2155</td>\n",
       "      <td>0.1140</td>\n",
       "      <td>0.1550</td>\n",
       "      <td>10</td>\n",
       "    </tr>\n",
       "    <tr>\n",
       "      <th>4</th>\n",
       "      <td>I</td>\n",
       "      <td>0.330</td>\n",
       "      <td>0.255</td>\n",
       "      <td>0.080</td>\n",
       "      <td>0.2050</td>\n",
       "      <td>0.0895</td>\n",
       "      <td>0.0395</td>\n",
       "      <td>0.0550</td>\n",
       "      <td>7</td>\n",
       "    </tr>\n",
       "    <tr>\n",
       "      <th>...</th>\n",
       "      <td>...</td>\n",
       "      <td>...</td>\n",
       "      <td>...</td>\n",
       "      <td>...</td>\n",
       "      <td>...</td>\n",
       "      <td>...</td>\n",
       "      <td>...</td>\n",
       "      <td>...</td>\n",
       "      <td>...</td>\n",
       "    </tr>\n",
       "    <tr>\n",
       "      <th>4172</th>\n",
       "      <td>F</td>\n",
       "      <td>0.565</td>\n",
       "      <td>0.450</td>\n",
       "      <td>0.165</td>\n",
       "      <td>0.8870</td>\n",
       "      <td>0.3700</td>\n",
       "      <td>0.2390</td>\n",
       "      <td>0.2490</td>\n",
       "      <td>11</td>\n",
       "    </tr>\n",
       "    <tr>\n",
       "      <th>4173</th>\n",
       "      <td>M</td>\n",
       "      <td>0.590</td>\n",
       "      <td>0.440</td>\n",
       "      <td>0.135</td>\n",
       "      <td>0.9660</td>\n",
       "      <td>0.4390</td>\n",
       "      <td>0.2145</td>\n",
       "      <td>0.2605</td>\n",
       "      <td>10</td>\n",
       "    </tr>\n",
       "    <tr>\n",
       "      <th>4174</th>\n",
       "      <td>M</td>\n",
       "      <td>0.600</td>\n",
       "      <td>0.475</td>\n",
       "      <td>0.205</td>\n",
       "      <td>1.1760</td>\n",
       "      <td>0.5255</td>\n",
       "      <td>0.2875</td>\n",
       "      <td>0.3080</td>\n",
       "      <td>9</td>\n",
       "    </tr>\n",
       "    <tr>\n",
       "      <th>4175</th>\n",
       "      <td>F</td>\n",
       "      <td>0.625</td>\n",
       "      <td>0.485</td>\n",
       "      <td>0.150</td>\n",
       "      <td>1.0945</td>\n",
       "      <td>0.5310</td>\n",
       "      <td>0.2610</td>\n",
       "      <td>0.2960</td>\n",
       "      <td>10</td>\n",
       "    </tr>\n",
       "    <tr>\n",
       "      <th>4176</th>\n",
       "      <td>M</td>\n",
       "      <td>0.710</td>\n",
       "      <td>0.555</td>\n",
       "      <td>0.195</td>\n",
       "      <td>1.9485</td>\n",
       "      <td>0.9455</td>\n",
       "      <td>0.3765</td>\n",
       "      <td>0.4950</td>\n",
       "      <td>12</td>\n",
       "    </tr>\n",
       "  </tbody>\n",
       "</table>\n",
       "<p>4177 rows × 9 columns</p>\n",
       "</div>"
      ],
      "text/plain": [
       "     Sex  Length  Diameter  Height  Whole weight  Shucked weight  \\\n",
       "0      M   0.455     0.365   0.095        0.5140          0.2245   \n",
       "1      M   0.350     0.265   0.090        0.2255          0.0995   \n",
       "2      F   0.530     0.420   0.135        0.6770          0.2565   \n",
       "3      M   0.440     0.365   0.125        0.5160          0.2155   \n",
       "4      I   0.330     0.255   0.080        0.2050          0.0895   \n",
       "...   ..     ...       ...     ...           ...             ...   \n",
       "4172   F   0.565     0.450   0.165        0.8870          0.3700   \n",
       "4173   M   0.590     0.440   0.135        0.9660          0.4390   \n",
       "4174   M   0.600     0.475   0.205        1.1760          0.5255   \n",
       "4175   F   0.625     0.485   0.150        1.0945          0.5310   \n",
       "4176   M   0.710     0.555   0.195        1.9485          0.9455   \n",
       "\n",
       "      Viscera weight  Shell weight  Rings  \n",
       "0             0.1010        0.1500     15  \n",
       "1             0.0485        0.0700      7  \n",
       "2             0.1415        0.2100      9  \n",
       "3             0.1140        0.1550     10  \n",
       "4             0.0395        0.0550      7  \n",
       "...              ...           ...    ...  \n",
       "4172          0.2390        0.2490     11  \n",
       "4173          0.2145        0.2605     10  \n",
       "4174          0.2875        0.3080      9  \n",
       "4175          0.2610        0.2960     10  \n",
       "4176          0.3765        0.4950     12  \n",
       "\n",
       "[4177 rows x 9 columns]"
      ]
     },
     "execution_count": 2,
     "metadata": {},
     "output_type": "execute_result"
    }
   ],
   "source": [
    "DF=pd.read_csv('abalone.csv')\n",
    "DF"
   ]
  },
  {
   "cell_type": "code",
   "execution_count": 3,
   "id": "1e5271f6",
   "metadata": {},
   "outputs": [
    {
     "data": {
      "text/html": [
       "<div>\n",
       "<style scoped>\n",
       "    .dataframe tbody tr th:only-of-type {\n",
       "        vertical-align: middle;\n",
       "    }\n",
       "\n",
       "    .dataframe tbody tr th {\n",
       "        vertical-align: top;\n",
       "    }\n",
       "\n",
       "    .dataframe thead th {\n",
       "        text-align: right;\n",
       "    }\n",
       "</style>\n",
       "<table border=\"1\" class=\"dataframe\">\n",
       "  <thead>\n",
       "    <tr style=\"text-align: right;\">\n",
       "      <th></th>\n",
       "      <th>Sex</th>\n",
       "      <th>Length</th>\n",
       "      <th>Diameter</th>\n",
       "      <th>Height</th>\n",
       "      <th>Whole weight</th>\n",
       "      <th>Shucked weight</th>\n",
       "      <th>Viscera weight</th>\n",
       "      <th>Shell weight</th>\n",
       "      <th>Rings</th>\n",
       "    </tr>\n",
       "  </thead>\n",
       "  <tbody>\n",
       "    <tr>\n",
       "      <th>0</th>\n",
       "      <td>M</td>\n",
       "      <td>0.455</td>\n",
       "      <td>0.365</td>\n",
       "      <td>0.095</td>\n",
       "      <td>0.5140</td>\n",
       "      <td>0.2245</td>\n",
       "      <td>0.1010</td>\n",
       "      <td>0.150</td>\n",
       "      <td>15</td>\n",
       "    </tr>\n",
       "    <tr>\n",
       "      <th>1</th>\n",
       "      <td>M</td>\n",
       "      <td>0.350</td>\n",
       "      <td>0.265</td>\n",
       "      <td>0.090</td>\n",
       "      <td>0.2255</td>\n",
       "      <td>0.0995</td>\n",
       "      <td>0.0485</td>\n",
       "      <td>0.070</td>\n",
       "      <td>7</td>\n",
       "    </tr>\n",
       "    <tr>\n",
       "      <th>2</th>\n",
       "      <td>F</td>\n",
       "      <td>0.530</td>\n",
       "      <td>0.420</td>\n",
       "      <td>0.135</td>\n",
       "      <td>0.6770</td>\n",
       "      <td>0.2565</td>\n",
       "      <td>0.1415</td>\n",
       "      <td>0.210</td>\n",
       "      <td>9</td>\n",
       "    </tr>\n",
       "    <tr>\n",
       "      <th>3</th>\n",
       "      <td>M</td>\n",
       "      <td>0.440</td>\n",
       "      <td>0.365</td>\n",
       "      <td>0.125</td>\n",
       "      <td>0.5160</td>\n",
       "      <td>0.2155</td>\n",
       "      <td>0.1140</td>\n",
       "      <td>0.155</td>\n",
       "      <td>10</td>\n",
       "    </tr>\n",
       "    <tr>\n",
       "      <th>4</th>\n",
       "      <td>I</td>\n",
       "      <td>0.330</td>\n",
       "      <td>0.255</td>\n",
       "      <td>0.080</td>\n",
       "      <td>0.2050</td>\n",
       "      <td>0.0895</td>\n",
       "      <td>0.0395</td>\n",
       "      <td>0.055</td>\n",
       "      <td>7</td>\n",
       "    </tr>\n",
       "  </tbody>\n",
       "</table>\n",
       "</div>"
      ],
      "text/plain": [
       "  Sex  Length  Diameter  Height  Whole weight  Shucked weight  Viscera weight  \\\n",
       "0   M   0.455     0.365   0.095        0.5140          0.2245          0.1010   \n",
       "1   M   0.350     0.265   0.090        0.2255          0.0995          0.0485   \n",
       "2   F   0.530     0.420   0.135        0.6770          0.2565          0.1415   \n",
       "3   M   0.440     0.365   0.125        0.5160          0.2155          0.1140   \n",
       "4   I   0.330     0.255   0.080        0.2050          0.0895          0.0395   \n",
       "\n",
       "   Shell weight  Rings  \n",
       "0         0.150     15  \n",
       "1         0.070      7  \n",
       "2         0.210      9  \n",
       "3         0.155     10  \n",
       "4         0.055      7  "
      ]
     },
     "execution_count": 3,
     "metadata": {},
     "output_type": "execute_result"
    }
   ],
   "source": [
    "DF.head()"
   ]
  },
  {
   "cell_type": "code",
   "execution_count": 4,
   "id": "eb239ccc",
   "metadata": {},
   "outputs": [
    {
     "data": {
      "text/html": [
       "<div>\n",
       "<style scoped>\n",
       "    .dataframe tbody tr th:only-of-type {\n",
       "        vertical-align: middle;\n",
       "    }\n",
       "\n",
       "    .dataframe tbody tr th {\n",
       "        vertical-align: top;\n",
       "    }\n",
       "\n",
       "    .dataframe thead th {\n",
       "        text-align: right;\n",
       "    }\n",
       "</style>\n",
       "<table border=\"1\" class=\"dataframe\">\n",
       "  <thead>\n",
       "    <tr style=\"text-align: right;\">\n",
       "      <th></th>\n",
       "      <th>Sex</th>\n",
       "      <th>Length</th>\n",
       "      <th>Diameter</th>\n",
       "      <th>Height</th>\n",
       "      <th>Whole weight</th>\n",
       "      <th>Shucked weight</th>\n",
       "      <th>Viscera weight</th>\n",
       "      <th>Shell weight</th>\n",
       "      <th>Rings</th>\n",
       "    </tr>\n",
       "  </thead>\n",
       "  <tbody>\n",
       "    <tr>\n",
       "      <th>4172</th>\n",
       "      <td>F</td>\n",
       "      <td>0.565</td>\n",
       "      <td>0.450</td>\n",
       "      <td>0.165</td>\n",
       "      <td>0.8870</td>\n",
       "      <td>0.3700</td>\n",
       "      <td>0.2390</td>\n",
       "      <td>0.2490</td>\n",
       "      <td>11</td>\n",
       "    </tr>\n",
       "    <tr>\n",
       "      <th>4173</th>\n",
       "      <td>M</td>\n",
       "      <td>0.590</td>\n",
       "      <td>0.440</td>\n",
       "      <td>0.135</td>\n",
       "      <td>0.9660</td>\n",
       "      <td>0.4390</td>\n",
       "      <td>0.2145</td>\n",
       "      <td>0.2605</td>\n",
       "      <td>10</td>\n",
       "    </tr>\n",
       "    <tr>\n",
       "      <th>4174</th>\n",
       "      <td>M</td>\n",
       "      <td>0.600</td>\n",
       "      <td>0.475</td>\n",
       "      <td>0.205</td>\n",
       "      <td>1.1760</td>\n",
       "      <td>0.5255</td>\n",
       "      <td>0.2875</td>\n",
       "      <td>0.3080</td>\n",
       "      <td>9</td>\n",
       "    </tr>\n",
       "    <tr>\n",
       "      <th>4175</th>\n",
       "      <td>F</td>\n",
       "      <td>0.625</td>\n",
       "      <td>0.485</td>\n",
       "      <td>0.150</td>\n",
       "      <td>1.0945</td>\n",
       "      <td>0.5310</td>\n",
       "      <td>0.2610</td>\n",
       "      <td>0.2960</td>\n",
       "      <td>10</td>\n",
       "    </tr>\n",
       "    <tr>\n",
       "      <th>4176</th>\n",
       "      <td>M</td>\n",
       "      <td>0.710</td>\n",
       "      <td>0.555</td>\n",
       "      <td>0.195</td>\n",
       "      <td>1.9485</td>\n",
       "      <td>0.9455</td>\n",
       "      <td>0.3765</td>\n",
       "      <td>0.4950</td>\n",
       "      <td>12</td>\n",
       "    </tr>\n",
       "  </tbody>\n",
       "</table>\n",
       "</div>"
      ],
      "text/plain": [
       "     Sex  Length  Diameter  Height  Whole weight  Shucked weight  \\\n",
       "4172   F   0.565     0.450   0.165        0.8870          0.3700   \n",
       "4173   M   0.590     0.440   0.135        0.9660          0.4390   \n",
       "4174   M   0.600     0.475   0.205        1.1760          0.5255   \n",
       "4175   F   0.625     0.485   0.150        1.0945          0.5310   \n",
       "4176   M   0.710     0.555   0.195        1.9485          0.9455   \n",
       "\n",
       "      Viscera weight  Shell weight  Rings  \n",
       "4172          0.2390        0.2490     11  \n",
       "4173          0.2145        0.2605     10  \n",
       "4174          0.2875        0.3080      9  \n",
       "4175          0.2610        0.2960     10  \n",
       "4176          0.3765        0.4950     12  "
      ]
     },
     "execution_count": 4,
     "metadata": {},
     "output_type": "execute_result"
    }
   ],
   "source": [
    "DF.tail()"
   ]
  },
  {
   "cell_type": "code",
   "execution_count": 5,
   "id": "a1adf7d2",
   "metadata": {},
   "outputs": [
    {
     "name": "stdout",
     "output_type": "stream",
     "text": [
      "<class 'pandas.core.frame.DataFrame'>\n",
      "RangeIndex: 4177 entries, 0 to 4176\n",
      "Data columns (total 9 columns):\n",
      " #   Column          Non-Null Count  Dtype  \n",
      "---  ------          --------------  -----  \n",
      " 0   Sex             4177 non-null   object \n",
      " 1   Length          4177 non-null   float64\n",
      " 2   Diameter        4177 non-null   float64\n",
      " 3   Height          4177 non-null   float64\n",
      " 4   Whole weight    4177 non-null   float64\n",
      " 5   Shucked weight  4177 non-null   float64\n",
      " 6   Viscera weight  4177 non-null   float64\n",
      " 7   Shell weight    4177 non-null   float64\n",
      " 8   Rings           4177 non-null   int64  \n",
      "dtypes: float64(7), int64(1), object(1)\n",
      "memory usage: 293.8+ KB\n"
     ]
    }
   ],
   "source": [
    "DF.info()"
   ]
  },
  {
   "cell_type": "code",
   "execution_count": 6,
   "id": "ecc47ee0",
   "metadata": {},
   "outputs": [
    {
     "data": {
      "text/plain": [
       "Sex               0\n",
       "Length            0\n",
       "Diameter          0\n",
       "Height            0\n",
       "Whole weight      0\n",
       "Shucked weight    0\n",
       "Viscera weight    0\n",
       "Shell weight      0\n",
       "Rings             0\n",
       "dtype: int64"
      ]
     },
     "execution_count": 6,
     "metadata": {},
     "output_type": "execute_result"
    }
   ],
   "source": [
    "DF.isnull().sum()"
   ]
  },
  {
   "cell_type": "code",
   "execution_count": 7,
   "id": "f8eb851f",
   "metadata": {},
   "outputs": [
    {
     "data": {
      "text/plain": [
       "(4177, 9)"
      ]
     },
     "execution_count": 7,
     "metadata": {},
     "output_type": "execute_result"
    }
   ],
   "source": [
    "DF.shape"
   ]
  },
  {
   "cell_type": "markdown",
   "id": "78fd0393",
   "metadata": {},
   "source": [
    "# EDA"
   ]
  },
  {
   "cell_type": "code",
   "execution_count": 23,
   "id": "e94c5a5f",
   "metadata": {},
   "outputs": [
    {
     "data": {
      "image/png": "[encoded data removed]",
      "text/plain": [
       "<Figure size 432x288 with 1 Axes>"
      ]
     },
     "metadata": {
      "needs_background": "light"
     },
     "output_type": "display_data"
    },
    {
     "data": {
      "image/png": "[encoded data removed]",
      "text/plain": [
       "<Figure size 432x288 with 1 Axes>"
      ]
     },
     "metadata": {
      "needs_background": "light"
     },
     "output_type": "display_data"
    },
    {
     "data": {
      "image/png": "[encoded data removed]",
      "text/plain": [
       "<Figure size 432x288 with 1 Axes>"
      ]
     },
     "metadata": {
      "needs_background": "light"
     },
     "output_type": "display_data"
    },
    {
     "data": {
      "image/png": "[encoded data removed]",
      "text/plain": [
       "<Figure size 432x288 with 1 Axes>"
      ]
     },
     "metadata": {
      "needs_background": "light"
     },
     "output_type": "display_data"
    },
    {
     "data": {
      "image/png": "[encoded data removed]",
      "text/plain": [
       "<Figure size 432x288 with 1 Axes>"
      ]
     },
     "metadata": {
      "needs_background": "light"
     },
     "output_type": "display_data"
    },
    {
     "data": {
      "image/png": "[encoded data removed]",
      "text/plain": [
       "<Figure size 432x288 with 1 Axes>"
      ]
     },
     "metadata": {
      "needs_background": "light"
     },
     "output_type": "display_data"
    },
    {
     "data": {
      "image/png": "[encoded data removed]",
      "text/plain": [
       "<Figure size 432x288 with 1 Axes>"
      ]
     },
     "metadata": {
      "needs_background": "light"
     },
     "output_type": "display_data"
    },
    {
     "data": {
      "image/png": "[encoded data removed]",
      "text/plain": [
       "<Figure size 432x288 with 1 Axes>"
      ]
     },
     "metadata": {
      "needs_background": "light"
     },
     "output_type": "display_data"
    }
   ],
   "source": [
    "A=DF.drop('Sex',axis=1)\n",
    "col=list(A)\n",
    "for i in col:\n",
    "    sea.distplot(DF[i])\n",
    "    plt.show()\n"
   ]
  },
  {
   "cell_type": "code",
   "execution_count": null,
   "id": "0ab9f2bd",
   "metadata": {},
   "outputs": [],
   "source": [
    "DF.hist(figsize=(20,15),ec='white',bins=20,color='blue',alpha=0.6)\n",
    "plt.show()"
   ]
  },
  {
   "cell_type": "code",
   "execution_count": 19,
   "id": "d221b770",
   "metadata": {},
   "outputs": [
    {
     "data": {
      "image/png": "[encoded data removed]",
      "text/plain": [
       "<Figure size 432x288 with 1 Axes>"
      ]
     },
     "metadata": {
      "needs_background": "light"
     },
     "output_type": "display_data"
    },
    {
     "data": {
      "image/png": "[encoded data removed]",
      "text/plain": [
       "<Figure size 432x288 with 1 Axes>"
      ]
     },
     "metadata": {
      "needs_background": "light"
     },
     "output_type": "display_data"
    },
    {
     "data": {
      "image/png": "[encoded data removed]",
      "text/plain": [
       "<Figure size 432x288 with 1 Axes>"
      ]
     },
     "metadata": {
      "needs_background": "light"
     },
     "output_type": "display_data"
    },
    {
     "data": {
      "image/png": "[encoded data removed]",
      "text/plain": [
       "<Figure size 432x288 with 1 Axes>"
      ]
     },
     "metadata": {
      "needs_background": "light"
     },
     "output_type": "display_data"
    },
    {
     "data": {
      "image/png": "[encoded data removed]",
      "text/plain": [
       "<Figure size 432x288 with 1 Axes>"
      ]
     },
     "metadata": {
      "needs_background": "light"
     },
     "output_type": "display_data"
    },
    {
     "data": {
      "image/png": "[encoded data removed]",
      "text/plain": [
       "<Figure size 432x288 with 1 Axes>"
      ]
     },
     "metadata": {
      "needs_background": "light"
     },
     "output_type": "display_data"
    },
    {
     "data": {
      "image/png": "[encoded data removed]",
      "text/plain": [
       "<Figure size 432x288 with 1 Axes>"
      ]
     },
     "metadata": {
      "needs_background": "light"
     },
     "output_type": "display_data"
    },
    {
     "data": {
      "image/png": "[encoded data removed]",
      "text/plain": [
       "<Figure size 432x288 with 1 Axes>"
      ]
     },
     "metadata": {
      "needs_background": "light"
     },
     "output_type": "display_data"
    },
    {
     "data": {
      "image/png": "[encoded data removed]",
      "text/plain": [
       "<Figure size 432x288 with 1 Axes>"
      ]
     },
     "metadata": {
      "needs_background": "light"
     },
     "output_type": "display_data"
    }
   ],
   "source": [
    "col=list(DF)\n",
    "for i in col:\n",
    "    plt.scatter(DF['Rings'],DF[i])\n",
    "    plt.show()"
   ]
  },
  {
   "cell_type": "code",
   "execution_count": 10,
   "id": "795a1280",
   "metadata": {},
   "outputs": [
    {
     "data": {
      "text/plain": [
       "<AxesSubplot:xlabel='Rings', ylabel='Shell weight'>"
      ]
     },
     "execution_count": 10,
     "metadata": {},
     "output_type": "execute_result"
    },
    {
     "data": {
      "image/png": "[encoded data removed]",
      "text/plain": [
       "<Figure size 360x360 with 1 Axes>"
      ]
     },
     "metadata": {
      "needs_background": "light"
     },
     "output_type": "display_data"
    }
   ],
   "source": [
    "#Shell weight vs Rings\n",
    "plot= plt.figure(figsize=(5,5))\n",
    "sea.barplot(x='Rings',y='Shell weight',data=DF)"
   ]
  },
  {
   "cell_type": "code",
   "execution_count": 11,
   "id": "7cb855ca",
   "metadata": {},
   "outputs": [
    {
     "data": {
      "text/plain": [
       "<AxesSubplot:xlabel='Rings', ylabel='Viscera weight'>"
      ]
     },
     "execution_count": 11,
     "metadata": {},
     "output_type": "execute_result"
    },
    {
     "data": {
      "image/png": "[encoded data removed]",
      "text/plain": [
       "<Figure size 360x360 with 1 Axes>"
      ]
     },
     "metadata": {
      "needs_background": "light"
     },
     "output_type": "display_data"
    }
   ],
   "source": [
    "#Viscera weight vs Rings\n",
    "plot= plt.figure(figsize=(5,5))\n",
    "sea.barplot(x='Rings',y='Viscera weight',data=DF)"
   ]
  },
  {
   "cell_type": "code",
   "execution_count": 12,
   "id": "886f3927",
   "metadata": {},
   "outputs": [
    {
     "data": {
      "text/plain": [
       "<AxesSubplot:xlabel='Rings', ylabel='Shucked weight'>"
      ]
     },
     "execution_count": 12,
     "metadata": {},
     "output_type": "execute_result"
    },
    {
     "data": {
      "image/png": "[encoded data removed]",
      "text/plain": [
       "<Figure size 360x360 with 1 Axes>"
      ]
     },
     "metadata": {
      "needs_background": "light"
     },
     "output_type": "display_data"
    }
   ],
   "source": [
    "#Shucked weight vs Rings\n",
    "plot= plt.figure(figsize=(5,5))\n",
    "sea.barplot(x='Rings',y='Shucked weight',data=DF)"
   ]
  },
  {
   "cell_type": "code",
   "execution_count": 13,
   "id": "f67576c7",
   "metadata": {},
   "outputs": [
    {
     "data": {
      "text/plain": [
       "<AxesSubplot:xlabel='Rings', ylabel='Whole weight'>"
      ]
     },
     "execution_count": 13,
     "metadata": {},
     "output_type": "execute_result"
    },
    {
     "data": {
      "image/png": "[encoded data removed]",
      "text/plain": [
       "<Figure size 360x360 with 1 Axes>"
      ]
     },
     "metadata": {
      "needs_background": "light"
     },
     "output_type": "display_data"
    }
   ],
   "source": [
    "#Whole weight vs Rings\n",
    "plot= plt.figure(figsize=(5,5))\n",
    "sea.barplot(x='Rings',y='Whole weight',data=DF)"
   ]
  },
  {
   "cell_type": "code",
   "execution_count": 14,
   "id": "853ce9c5",
   "metadata": {},
   "outputs": [
    {
     "data": {
      "text/plain": [
       "<AxesSubplot:xlabel='Rings', ylabel='Height'>"
      ]
     },
     "execution_count": 14,
     "metadata": {},
     "output_type": "execute_result"
    },
    {
     "data": {
      "image/png": "[encoded data removed]",
      "text/plain": [
       "<Figure size 360x360 with 1 Axes>"
      ]
     },
     "metadata": {
      "needs_background": "light"
     },
     "output_type": "display_data"
    }
   ],
   "source": [
    "#Height vs Rings\n",
    "plot= plt.figure(figsize=(5,5))\n",
    "sea.barplot(x='Rings',y='Height',data=DF)"
   ]
  },
  {
   "cell_type": "code",
   "execution_count": 15,
   "id": "8cb47279",
   "metadata": {},
   "outputs": [
    {
     "data": {
      "text/plain": [
       "<AxesSubplot:xlabel='Rings', ylabel='Diameter'>"
      ]
     },
     "execution_count": 15,
     "metadata": {},
     "output_type": "execute_result"
    },
    {
     "data": {
      "image/png": "[encoded data removed]",
      "text/plain": [
       "<Figure size 360x360 with 1 Axes>"
      ]
     },
     "metadata": {
      "needs_background": "light"
     },
     "output_type": "display_data"
    }
   ],
   "source": [
    "#Diameter vs Rings\n",
    "plot= plt.figure(figsize=(5,5))\n",
    "sea.barplot(x='Rings',y='Diameter',data=DF)"
   ]
  },
  {
   "cell_type": "code",
   "execution_count": 16,
   "id": "c0ceacc5",
   "metadata": {},
   "outputs": [
    {
     "data": {
      "text/plain": [
       "<AxesSubplot:xlabel='Rings', ylabel='Length'>"
      ]
     },
     "execution_count": 16,
     "metadata": {},
     "output_type": "execute_result"
    },
    {
     "data": {
      "image/png": "[encoded data removed]",
      "text/plain": [
       "<Figure size 360x360 with 1 Axes>"
      ]
     },
     "metadata": {
      "needs_background": "light"
     },
     "output_type": "display_data"
    }
   ],
   "source": [
    "#Length vs Rings\n",
    "plot= plt.figure(figsize=(5,5))\n",
    "sea.barplot(x='Rings',y='Length',data=DF)"
   ]
  },
  {
   "cell_type": "code",
   "execution_count": 18,
   "id": "48abfeba",
   "metadata": {},
   "outputs": [
    {
     "data": {
      "text/plain": [
       "<AxesSubplot:xlabel='Sex', ylabel='Rings'>"
      ]
     },
     "execution_count": 18,
     "metadata": {},
     "output_type": "execute_result"
    },
    {
     "data": {
      "image/png": "[encoded data removed]",
      "text/plain": [
       "<Figure size 360x360 with 1 Axes>"
      ]
     },
     "metadata": {
      "needs_background": "light"
     },
     "output_type": "display_data"
    }
   ],
   "source": [
    "#Length vs Rings\n",
    "plot= plt.figure(figsize=(5,5))\n",
    "sea.barplot(x='Sex',y='Rings',data=DF)"
   ]
  },
  {
   "cell_type": "markdown",
   "id": "04dda845",
   "metadata": {},
   "source": [
    "Observation:\n",
    "    \n",
    "    All the factors are contributing positively to the number of rings."
   ]
  },
  {
   "cell_type": "code",
   "execution_count": 24,
   "id": "6b1b7a0a",
   "metadata": {},
   "outputs": [
    {
     "data": {
      "text/html": [
       "<div>\n",
       "<style scoped>\n",
       "    .dataframe tbody tr th:only-of-type {\n",
       "        vertical-align: middle;\n",
       "    }\n",
       "\n",
       "    .dataframe tbody tr th {\n",
       "        vertical-align: top;\n",
       "    }\n",
       "\n",
       "    .dataframe thead th {\n",
       "        text-align: right;\n",
       "    }\n",
       "</style>\n",
       "<table border=\"1\" class=\"dataframe\">\n",
       "  <thead>\n",
       "    <tr style=\"text-align: right;\">\n",
       "      <th></th>\n",
       "      <th>Length</th>\n",
       "      <th>Diameter</th>\n",
       "      <th>Height</th>\n",
       "      <th>Whole weight</th>\n",
       "      <th>Shucked weight</th>\n",
       "      <th>Viscera weight</th>\n",
       "      <th>Shell weight</th>\n",
       "      <th>Rings</th>\n",
       "    </tr>\n",
       "  </thead>\n",
       "  <tbody>\n",
       "    <tr>\n",
       "      <th>count</th>\n",
       "      <td>4177.000000</td>\n",
       "      <td>4177.000000</td>\n",
       "      <td>4177.000000</td>\n",
       "      <td>4177.000000</td>\n",
       "      <td>4177.000000</td>\n",
       "      <td>4177.000000</td>\n",
       "      <td>4177.000000</td>\n",
       "      <td>4177.000000</td>\n",
       "    </tr>\n",
       "    <tr>\n",
       "      <th>mean</th>\n",
       "      <td>0.523992</td>\n",
       "      <td>0.407881</td>\n",
       "      <td>0.139516</td>\n",
       "      <td>0.828742</td>\n",
       "      <td>0.359367</td>\n",
       "      <td>0.180594</td>\n",
       "      <td>0.238831</td>\n",
       "      <td>9.933684</td>\n",
       "    </tr>\n",
       "    <tr>\n",
       "      <th>std</th>\n",
       "      <td>0.120093</td>\n",
       "      <td>0.099240</td>\n",
       "      <td>0.041827</td>\n",
       "      <td>0.490389</td>\n",
       "      <td>0.221963</td>\n",
       "      <td>0.109614</td>\n",
       "      <td>0.139203</td>\n",
       "      <td>3.224169</td>\n",
       "    </tr>\n",
       "    <tr>\n",
       "      <th>min</th>\n",
       "      <td>0.075000</td>\n",
       "      <td>0.055000</td>\n",
       "      <td>0.000000</td>\n",
       "      <td>0.002000</td>\n",
       "      <td>0.001000</td>\n",
       "      <td>0.000500</td>\n",
       "      <td>0.001500</td>\n",
       "      <td>1.000000</td>\n",
       "    </tr>\n",
       "    <tr>\n",
       "      <th>25%</th>\n",
       "      <td>0.450000</td>\n",
       "      <td>0.350000</td>\n",
       "      <td>0.115000</td>\n",
       "      <td>0.441500</td>\n",
       "      <td>0.186000</td>\n",
       "      <td>0.093500</td>\n",
       "      <td>0.130000</td>\n",
       "      <td>8.000000</td>\n",
       "    </tr>\n",
       "    <tr>\n",
       "      <th>50%</th>\n",
       "      <td>0.545000</td>\n",
       "      <td>0.425000</td>\n",
       "      <td>0.140000</td>\n",
       "      <td>0.799500</td>\n",
       "      <td>0.336000</td>\n",
       "      <td>0.171000</td>\n",
       "      <td>0.234000</td>\n",
       "      <td>9.000000</td>\n",
       "    </tr>\n",
       "    <tr>\n",
       "      <th>75%</th>\n",
       "      <td>0.615000</td>\n",
       "      <td>0.480000</td>\n",
       "      <td>0.165000</td>\n",
       "      <td>1.153000</td>\n",
       "      <td>0.502000</td>\n",
       "      <td>0.253000</td>\n",
       "      <td>0.329000</td>\n",
       "      <td>11.000000</td>\n",
       "    </tr>\n",
       "    <tr>\n",
       "      <th>max</th>\n",
       "      <td>0.815000</td>\n",
       "      <td>0.650000</td>\n",
       "      <td>1.130000</td>\n",
       "      <td>2.825500</td>\n",
       "      <td>1.488000</td>\n",
       "      <td>0.760000</td>\n",
       "      <td>1.005000</td>\n",
       "      <td>29.000000</td>\n",
       "    </tr>\n",
       "  </tbody>\n",
       "</table>\n",
       "</div>"
      ],
      "text/plain": [
       "            Length     Diameter       Height  Whole weight  Shucked weight  \\\n",
       "count  4177.000000  4177.000000  4177.000000   4177.000000     4177.000000   \n",
       "mean      0.523992     0.407881     0.139516      0.828742        0.359367   \n",
       "std       0.120093     0.099240     0.041827      0.490389        0.221963   \n",
       "min       0.075000     0.055000     0.000000      0.002000        0.001000   \n",
       "25%       0.450000     0.350000     0.115000      0.441500        0.186000   \n",
       "50%       0.545000     0.425000     0.140000      0.799500        0.336000   \n",
       "75%       0.615000     0.480000     0.165000      1.153000        0.502000   \n",
       "max       0.815000     0.650000     1.130000      2.825500        1.488000   \n",
       "\n",
       "       Viscera weight  Shell weight        Rings  \n",
       "count     4177.000000   4177.000000  4177.000000  \n",
       "mean         0.180594      0.238831     9.933684  \n",
       "std          0.109614      0.139203     3.224169  \n",
       "min          0.000500      0.001500     1.000000  \n",
       "25%          0.093500      0.130000     8.000000  \n",
       "50%          0.171000      0.234000     9.000000  \n",
       "75%          0.253000      0.329000    11.000000  \n",
       "max          0.760000      1.005000    29.000000  "
      ]
     },
     "execution_count": 24,
     "metadata": {},
     "output_type": "execute_result"
    }
   ],
   "source": [
    "DF.describe()"
   ]
  },
  {
   "cell_type": "code",
   "execution_count": 25,
   "id": "7ebf0c5a",
   "metadata": {},
   "outputs": [
    {
     "name": "stdout",
     "output_type": "stream",
     "text": [
      "<class 'pandas.core.frame.DataFrame'>\n",
      "RangeIndex: 4177 entries, 0 to 4176\n",
      "Data columns (total 9 columns):\n",
      " #   Column          Non-Null Count  Dtype  \n",
      "---  ------          --------------  -----  \n",
      " 0   Sex             4177 non-null   object \n",
      " 1   Length          4177 non-null   float64\n",
      " 2   Diameter        4177 non-null   float64\n",
      " 3   Height          4177 non-null   float64\n",
      " 4   Whole weight    4177 non-null   float64\n",
      " 5   Shucked weight  4177 non-null   float64\n",
      " 6   Viscera weight  4177 non-null   float64\n",
      " 7   Shell weight    4177 non-null   float64\n",
      " 8   Rings           4177 non-null   int64  \n",
      "dtypes: float64(7), int64(1), object(1)\n",
      "memory usage: 293.8+ KB\n"
     ]
    }
   ],
   "source": [
    "DF.info()"
   ]
  },
  {
   "cell_type": "code",
   "execution_count": 26,
   "id": "7f256970",
   "metadata": {},
   "outputs": [
    {
     "data": {
      "text/plain": [
       "Sex               0\n",
       "Length            0\n",
       "Diameter          0\n",
       "Height            0\n",
       "Whole weight      0\n",
       "Shucked weight    0\n",
       "Viscera weight    0\n",
       "Shell weight      0\n",
       "Rings             0\n",
       "dtype: int64"
      ]
     },
     "execution_count": 26,
     "metadata": {},
     "output_type": "execute_result"
    }
   ],
   "source": [
    "DF.isnull().sum()"
   ]
  },
  {
   "cell_type": "code",
   "execution_count": 27,
   "id": "ad99cf34",
   "metadata": {},
   "outputs": [
    {
     "data": {
      "text/html": [
       "<div>\n",
       "<style scoped>\n",
       "    .dataframe tbody tr th:only-of-type {\n",
       "        vertical-align: middle;\n",
       "    }\n",
       "\n",
       "    .dataframe tbody tr th {\n",
       "        vertical-align: top;\n",
       "    }\n",
       "\n",
       "    .dataframe thead th {\n",
       "        text-align: right;\n",
       "    }\n",
       "</style>\n",
       "<table border=\"1\" class=\"dataframe\">\n",
       "  <thead>\n",
       "    <tr style=\"text-align: right;\">\n",
       "      <th></th>\n",
       "      <th>Length</th>\n",
       "      <th>Diameter</th>\n",
       "      <th>Height</th>\n",
       "      <th>Whole weight</th>\n",
       "      <th>Shucked weight</th>\n",
       "      <th>Viscera weight</th>\n",
       "      <th>Shell weight</th>\n",
       "      <th>Rings</th>\n",
       "    </tr>\n",
       "  </thead>\n",
       "  <tbody>\n",
       "    <tr>\n",
       "      <th>Length</th>\n",
       "      <td>1.000000</td>\n",
       "      <td>0.986812</td>\n",
       "      <td>0.827554</td>\n",
       "      <td>0.925261</td>\n",
       "      <td>0.897914</td>\n",
       "      <td>0.903018</td>\n",
       "      <td>0.897706</td>\n",
       "      <td>0.556720</td>\n",
       "    </tr>\n",
       "    <tr>\n",
       "      <th>Diameter</th>\n",
       "      <td>0.986812</td>\n",
       "      <td>1.000000</td>\n",
       "      <td>0.833684</td>\n",
       "      <td>0.925452</td>\n",
       "      <td>0.893162</td>\n",
       "      <td>0.899724</td>\n",
       "      <td>0.905330</td>\n",
       "      <td>0.574660</td>\n",
       "    </tr>\n",
       "    <tr>\n",
       "      <th>Height</th>\n",
       "      <td>0.827554</td>\n",
       "      <td>0.833684</td>\n",
       "      <td>1.000000</td>\n",
       "      <td>0.819221</td>\n",
       "      <td>0.774972</td>\n",
       "      <td>0.798319</td>\n",
       "      <td>0.817338</td>\n",
       "      <td>0.557467</td>\n",
       "    </tr>\n",
       "    <tr>\n",
       "      <th>Whole weight</th>\n",
       "      <td>0.925261</td>\n",
       "      <td>0.925452</td>\n",
       "      <td>0.819221</td>\n",
       "      <td>1.000000</td>\n",
       "      <td>0.969405</td>\n",
       "      <td>0.966375</td>\n",
       "      <td>0.955355</td>\n",
       "      <td>0.540390</td>\n",
       "    </tr>\n",
       "    <tr>\n",
       "      <th>Shucked weight</th>\n",
       "      <td>0.897914</td>\n",
       "      <td>0.893162</td>\n",
       "      <td>0.774972</td>\n",
       "      <td>0.969405</td>\n",
       "      <td>1.000000</td>\n",
       "      <td>0.931961</td>\n",
       "      <td>0.882617</td>\n",
       "      <td>0.420884</td>\n",
       "    </tr>\n",
       "    <tr>\n",
       "      <th>Viscera weight</th>\n",
       "      <td>0.903018</td>\n",
       "      <td>0.899724</td>\n",
       "      <td>0.798319</td>\n",
       "      <td>0.966375</td>\n",
       "      <td>0.931961</td>\n",
       "      <td>1.000000</td>\n",
       "      <td>0.907656</td>\n",
       "      <td>0.503819</td>\n",
       "    </tr>\n",
       "    <tr>\n",
       "      <th>Shell weight</th>\n",
       "      <td>0.897706</td>\n",
       "      <td>0.905330</td>\n",
       "      <td>0.817338</td>\n",
       "      <td>0.955355</td>\n",
       "      <td>0.882617</td>\n",
       "      <td>0.907656</td>\n",
       "      <td>1.000000</td>\n",
       "      <td>0.627574</td>\n",
       "    </tr>\n",
       "    <tr>\n",
       "      <th>Rings</th>\n",
       "      <td>0.556720</td>\n",
       "      <td>0.574660</td>\n",
       "      <td>0.557467</td>\n",
       "      <td>0.540390</td>\n",
       "      <td>0.420884</td>\n",
       "      <td>0.503819</td>\n",
       "      <td>0.627574</td>\n",
       "      <td>1.000000</td>\n",
       "    </tr>\n",
       "  </tbody>\n",
       "</table>\n",
       "</div>"
      ],
      "text/plain": [
       "                  Length  Diameter    Height  Whole weight  Shucked weight  \\\n",
       "Length          1.000000  0.986812  0.827554      0.925261        0.897914   \n",
       "Diameter        0.986812  1.000000  0.833684      0.925452        0.893162   \n",
       "Height          0.827554  0.833684  1.000000      0.819221        0.774972   \n",
       "Whole weight    0.925261  0.925452  0.819221      1.000000        0.969405   \n",
       "Shucked weight  0.897914  0.893162  0.774972      0.969405        1.000000   \n",
       "Viscera weight  0.903018  0.899724  0.798319      0.966375        0.931961   \n",
       "Shell weight    0.897706  0.905330  0.817338      0.955355        0.882617   \n",
       "Rings           0.556720  0.574660  0.557467      0.540390        0.420884   \n",
       "\n",
       "                Viscera weight  Shell weight     Rings  \n",
       "Length                0.903018      0.897706  0.556720  \n",
       "Diameter              0.899724      0.905330  0.574660  \n",
       "Height                0.798319      0.817338  0.557467  \n",
       "Whole weight          0.966375      0.955355  0.540390  \n",
       "Shucked weight        0.931961      0.882617  0.420884  \n",
       "Viscera weight        1.000000      0.907656  0.503819  \n",
       "Shell weight          0.907656      1.000000  0.627574  \n",
       "Rings                 0.503819      0.627574  1.000000  "
      ]
     },
     "execution_count": 27,
     "metadata": {},
     "output_type": "execute_result"
    }
   ],
   "source": [
    "DF.corr()"
   ]
  },
  {
   "cell_type": "code",
   "execution_count": 28,
   "id": "c2b6272a",
   "metadata": {},
   "outputs": [
    {
     "data": {
      "text/plain": [
       "<AxesSubplot:>"
      ]
     },
     "execution_count": 28,
     "metadata": {},
     "output_type": "execute_result"
    },
    {
     "data": {
      "image/png": "[encoded data removed]",
      "text/plain": [
       "<Figure size 720x720 with 2 Axes>"
      ]
     },
     "metadata": {
      "needs_background": "light"
     },
     "output_type": "display_data"
    }
   ],
   "source": [
    "plt.figure(figsize=(10,10))\n",
    "sea.heatmap(DF.corr(),annot=True)"
   ]
  },
  {
   "cell_type": "markdown",
   "id": "ae8091a9",
   "metadata": {},
   "source": [
    "Strongly Correlated Items:\n",
    "    \n",
    "    1. length and diameter\n",
    "    2. whole weight and shucked weight\n",
    "    3. whole weight and vecera weight\n",
    "    4. Shell weight and Whole Weight\n",
    "    \n",
    "Weakly Correlated Items:\n",
    "    \n",
    "    1. Shucked weight and rings\n",
    "    2. Length and rings\n",
    "    3. shucked weight and height\n",
    "     \n",
    "    "
   ]
  },
  {
   "cell_type": "code",
   "execution_count": 29,
   "id": "89669045",
   "metadata": {},
   "outputs": [],
   "source": [
    "# now Converting the sex in Binary Responses using label Encoder.\n",
    "\n",
    "from sklearn.preprocessing import LabelEncoder\n",
    "le=LabelEncoder()\n",
    "\n",
    "DF['Sex']=le.fit_transform(DF['Sex'])"
   ]
  },
  {
   "cell_type": "code",
   "execution_count": 31,
   "id": "a80d797c",
   "metadata": {},
   "outputs": [
    {
     "data": {
      "text/plain": [
       "2    1528\n",
       "1    1342\n",
       "0    1307\n",
       "Name: Sex, dtype: int64"
      ]
     },
     "execution_count": 31,
     "metadata": {},
     "output_type": "execute_result"
    }
   ],
   "source": [
    "DF['Sex'].value_counts()\n"
   ]
  },
  {
   "cell_type": "code",
   "execution_count": 32,
   "id": "eb7cde5c",
   "metadata": {},
   "outputs": [
    {
     "data": {
      "text/plain": [
       "Sex              -0.098155\n",
       "Length           -0.639873\n",
       "Diameter         -0.609198\n",
       "Height            3.128817\n",
       "Whole weight      0.530959\n",
       "Shucked weight    0.719098\n",
       "Viscera weight    0.591852\n",
       "Shell weight      0.620927\n",
       "Rings             1.114102\n",
       "dtype: float64"
      ]
     },
     "execution_count": 32,
     "metadata": {},
     "output_type": "execute_result"
    }
   ],
   "source": [
    "# Skewness in the data\n",
    "\n",
    "DF.skew()"
   ]
  },
  {
   "cell_type": "markdown",
   "id": "f19a4fd7",
   "metadata": {},
   "source": [
    "# Outliers"
   ]
  },
  {
   "cell_type": "code",
   "execution_count": 33,
   "id": "39dc5a24",
   "metadata": {},
   "outputs": [
    {
     "data": {
      "text/plain": [
       "Sex                  AxesSubplot(0.125,0.657941;0.168478x0.222059)\n",
       "Length            AxesSubplot(0.327174,0.657941;0.168478x0.222059)\n",
       "Diameter          AxesSubplot(0.529348,0.657941;0.168478x0.222059)\n",
       "Height            AxesSubplot(0.731522,0.657941;0.168478x0.222059)\n",
       "Whole weight         AxesSubplot(0.125,0.391471;0.168478x0.222059)\n",
       "Shucked weight    AxesSubplot(0.327174,0.391471;0.168478x0.222059)\n",
       "Viscera weight    AxesSubplot(0.529348,0.391471;0.168478x0.222059)\n",
       "Shell weight      AxesSubplot(0.731522,0.391471;0.168478x0.222059)\n",
       "Rings                   AxesSubplot(0.125,0.125;0.168478x0.222059)\n",
       "dtype: object"
      ]
     },
     "execution_count": 33,
     "metadata": {},
     "output_type": "execute_result"
    },
    {
     "data": {
      "image/png": "[encoded data removed]",
      "text/plain": [
       "<Figure size 432x288 with 12 Axes>"
      ]
     },
     "metadata": {
      "needs_background": "light"
     },
     "output_type": "display_data"
    }
   ],
   "source": [
    "DF.plot(kind='box',subplots=True,layout=(3,4))"
   ]
  },
  {
   "cell_type": "code",
   "execution_count": 34,
   "id": "bb6577b2",
   "metadata": {},
   "outputs": [
    {
     "data": {
      "text/plain": [
       "(4177, 9)"
      ]
     },
     "execution_count": 34,
     "metadata": {},
     "output_type": "execute_result"
    }
   ],
   "source": [
    "z=np.abs(zscore(DF))\n",
    "z.shape"
   ]
  },
  {
   "cell_type": "code",
   "execution_count": 35,
   "id": "d2e086fa",
   "metadata": {},
   "outputs": [
    {
     "data": {
      "text/plain": [
       "(array([   6,   72,   81,   83,  129,  163,  164,  165,  165,  165,  166,\n",
       "         166,  167,  168,  170,  181,  232,  236,  236,  236,  237,  237,\n",
       "         238,  238,  239,  270,  275,  277,  278,  294,  310,  313,  314,\n",
       "         334,  351,  355,  358,  358,  362,  375,  416,  417,  428,  431,\n",
       "         433,  469,  478,  480,  501,  526,  526,  530,  572,  628,  673,\n",
       "         674,  675,  678,  694,  696,  696,  719,  719,  720,  720,  744,\n",
       "         754,  756,  811,  891,  891,  891, 1048, 1051, 1051, 1052, 1193,\n",
       "        1197, 1199, 1202, 1204, 1206, 1206, 1207, 1207, 1207, 1207, 1209,\n",
       "        1209, 1257, 1417, 1417, 1418, 1422, 1426, 1427, 1427, 1427, 1428,\n",
       "        1429, 1429, 1528, 1754, 1756, 1757, 1759, 1761, 1762, 1762, 1762,\n",
       "        1763, 1763, 1763, 1821, 1982, 1986, 1987, 1987, 2051, 2090, 2108,\n",
       "        2108, 2114, 2114, 2157, 2161, 2176, 2180, 2199, 2201, 2208, 2209,\n",
       "        2274, 2275, 2305, 2334, 2334, 2334, 2335, 2344, 2358, 2368, 2381,\n",
       "        2436, 2459, 2471, 2544, 2623, 2624, 2624, 2624, 2625, 2709, 2710,\n",
       "        2710, 2810, 2810, 2811, 2811, 2811, 2862, 2863, 2863, 2863, 3007,\n",
       "        3008, 3140, 3148, 3149, 3149, 3151, 3151, 3188, 3193, 3280, 3359,\n",
       "        3427, 3427, 3427, 3599, 3599, 3628, 3713, 3715, 3715, 3715, 3715,\n",
       "        3800, 3837, 3899, 3899, 3902, 3924, 3930, 3944, 3961, 3962, 3996,\n",
       "        4145, 4148], dtype=int64),\n",
       " array([8, 8, 7, 8, 7, 7, 7, 4, 5, 7, 7, 8, 8, 7, 6, 8, 8, 1, 2, 3, 1, 2,\n",
       "        1, 2, 1, 8, 8, 7, 8, 8, 8, 8, 8, 7, 8, 8, 4, 7, 8, 8, 8, 8, 8, 8,\n",
       "        8, 8, 8, 8, 8, 1, 2, 8, 8, 8, 8, 8, 8, 8, 2, 1, 2, 1, 2, 1, 2, 8,\n",
       "        8, 8, 8, 4, 5, 7, 6, 4, 5, 4, 5, 5, 5, 5, 6, 5, 6, 4, 5, 6, 7, 4,\n",
       "        5, 3, 3, 5, 5, 6, 5, 4, 5, 6, 7, 1, 2, 5, 5, 5, 6, 6, 5, 4, 5, 6,\n",
       "        4, 5, 6, 5, 5, 1, 1, 2, 3, 7, 7, 8, 1, 2, 7, 7, 8, 8, 8, 8, 7, 8,\n",
       "        7, 8, 8, 4, 6, 8, 8, 8, 8, 7, 1, 8, 8, 8, 5, 4, 4, 5, 6, 5, 6, 5,\n",
       "        6, 5, 6, 4, 5, 6, 5, 4, 5, 6, 5, 7, 8, 7, 7, 8, 7, 8, 7, 8, 8, 8,\n",
       "        4, 5, 6, 4, 5, 6, 5, 4, 5, 6, 7, 4, 2, 1, 2, 1, 8, 8, 8, 5, 5, 3,\n",
       "        7, 6], dtype=int64))"
      ]
     },
     "execution_count": 35,
     "metadata": {},
     "output_type": "execute_result"
    }
   ],
   "source": [
    "np.where(z>3)"
   ]
  },
  {
   "cell_type": "code",
   "execution_count": 36,
   "id": "c7343b83",
   "metadata": {},
   "outputs": [
    {
     "data": {
      "text/html": [
       "<div>\n",
       "<style scoped>\n",
       "    .dataframe tbody tr th:only-of-type {\n",
       "        vertical-align: middle;\n",
       "    }\n",
       "\n",
       "    .dataframe tbody tr th {\n",
       "        vertical-align: top;\n",
       "    }\n",
       "\n",
       "    .dataframe thead th {\n",
       "        text-align: right;\n",
       "    }\n",
       "</style>\n",
       "<table border=\"1\" class=\"dataframe\">\n",
       "  <thead>\n",
       "    <tr style=\"text-align: right;\">\n",
       "      <th></th>\n",
       "      <th>Sex</th>\n",
       "      <th>Length</th>\n",
       "      <th>Diameter</th>\n",
       "      <th>Height</th>\n",
       "      <th>Whole weight</th>\n",
       "      <th>Shucked weight</th>\n",
       "      <th>Viscera weight</th>\n",
       "      <th>Shell weight</th>\n",
       "      <th>Rings</th>\n",
       "    </tr>\n",
       "  </thead>\n",
       "  <tbody>\n",
       "    <tr>\n",
       "      <th>0</th>\n",
       "      <td>2</td>\n",
       "      <td>0.455</td>\n",
       "      <td>0.365</td>\n",
       "      <td>0.095</td>\n",
       "      <td>0.5140</td>\n",
       "      <td>0.2245</td>\n",
       "      <td>0.1010</td>\n",
       "      <td>0.1500</td>\n",
       "      <td>15</td>\n",
       "    </tr>\n",
       "    <tr>\n",
       "      <th>1</th>\n",
       "      <td>2</td>\n",
       "      <td>0.350</td>\n",
       "      <td>0.265</td>\n",
       "      <td>0.090</td>\n",
       "      <td>0.2255</td>\n",
       "      <td>0.0995</td>\n",
       "      <td>0.0485</td>\n",
       "      <td>0.0700</td>\n",
       "      <td>7</td>\n",
       "    </tr>\n",
       "    <tr>\n",
       "      <th>2</th>\n",
       "      <td>0</td>\n",
       "      <td>0.530</td>\n",
       "      <td>0.420</td>\n",
       "      <td>0.135</td>\n",
       "      <td>0.6770</td>\n",
       "      <td>0.2565</td>\n",
       "      <td>0.1415</td>\n",
       "      <td>0.2100</td>\n",
       "      <td>9</td>\n",
       "    </tr>\n",
       "    <tr>\n",
       "      <th>3</th>\n",
       "      <td>2</td>\n",
       "      <td>0.440</td>\n",
       "      <td>0.365</td>\n",
       "      <td>0.125</td>\n",
       "      <td>0.5160</td>\n",
       "      <td>0.2155</td>\n",
       "      <td>0.1140</td>\n",
       "      <td>0.1550</td>\n",
       "      <td>10</td>\n",
       "    </tr>\n",
       "    <tr>\n",
       "      <th>4</th>\n",
       "      <td>1</td>\n",
       "      <td>0.330</td>\n",
       "      <td>0.255</td>\n",
       "      <td>0.080</td>\n",
       "      <td>0.2050</td>\n",
       "      <td>0.0895</td>\n",
       "      <td>0.0395</td>\n",
       "      <td>0.0550</td>\n",
       "      <td>7</td>\n",
       "    </tr>\n",
       "    <tr>\n",
       "      <th>...</th>\n",
       "      <td>...</td>\n",
       "      <td>...</td>\n",
       "      <td>...</td>\n",
       "      <td>...</td>\n",
       "      <td>...</td>\n",
       "      <td>...</td>\n",
       "      <td>...</td>\n",
       "      <td>...</td>\n",
       "      <td>...</td>\n",
       "    </tr>\n",
       "    <tr>\n",
       "      <th>4172</th>\n",
       "      <td>0</td>\n",
       "      <td>0.565</td>\n",
       "      <td>0.450</td>\n",
       "      <td>0.165</td>\n",
       "      <td>0.8870</td>\n",
       "      <td>0.3700</td>\n",
       "      <td>0.2390</td>\n",
       "      <td>0.2490</td>\n",
       "      <td>11</td>\n",
       "    </tr>\n",
       "    <tr>\n",
       "      <th>4173</th>\n",
       "      <td>2</td>\n",
       "      <td>0.590</td>\n",
       "      <td>0.440</td>\n",
       "      <td>0.135</td>\n",
       "      <td>0.9660</td>\n",
       "      <td>0.4390</td>\n",
       "      <td>0.2145</td>\n",
       "      <td>0.2605</td>\n",
       "      <td>10</td>\n",
       "    </tr>\n",
       "    <tr>\n",
       "      <th>4174</th>\n",
       "      <td>2</td>\n",
       "      <td>0.600</td>\n",
       "      <td>0.475</td>\n",
       "      <td>0.205</td>\n",
       "      <td>1.1760</td>\n",
       "      <td>0.5255</td>\n",
       "      <td>0.2875</td>\n",
       "      <td>0.3080</td>\n",
       "      <td>9</td>\n",
       "    </tr>\n",
       "    <tr>\n",
       "      <th>4175</th>\n",
       "      <td>0</td>\n",
       "      <td>0.625</td>\n",
       "      <td>0.485</td>\n",
       "      <td>0.150</td>\n",
       "      <td>1.0945</td>\n",
       "      <td>0.5310</td>\n",
       "      <td>0.2610</td>\n",
       "      <td>0.2960</td>\n",
       "      <td>10</td>\n",
       "    </tr>\n",
       "    <tr>\n",
       "      <th>4176</th>\n",
       "      <td>2</td>\n",
       "      <td>0.710</td>\n",
       "      <td>0.555</td>\n",
       "      <td>0.195</td>\n",
       "      <td>1.9485</td>\n",
       "      <td>0.9455</td>\n",
       "      <td>0.3765</td>\n",
       "      <td>0.4950</td>\n",
       "      <td>12</td>\n",
       "    </tr>\n",
       "  </tbody>\n",
       "</table>\n",
       "<p>4027 rows × 9 columns</p>\n",
       "</div>"
      ],
      "text/plain": [
       "      Sex  Length  Diameter  Height  Whole weight  Shucked weight  \\\n",
       "0       2   0.455     0.365   0.095        0.5140          0.2245   \n",
       "1       2   0.350     0.265   0.090        0.2255          0.0995   \n",
       "2       0   0.530     0.420   0.135        0.6770          0.2565   \n",
       "3       2   0.440     0.365   0.125        0.5160          0.2155   \n",
       "4       1   0.330     0.255   0.080        0.2050          0.0895   \n",
       "...   ...     ...       ...     ...           ...             ...   \n",
       "4172    0   0.565     0.450   0.165        0.8870          0.3700   \n",
       "4173    2   0.590     0.440   0.135        0.9660          0.4390   \n",
       "4174    2   0.600     0.475   0.205        1.1760          0.5255   \n",
       "4175    0   0.625     0.485   0.150        1.0945          0.5310   \n",
       "4176    2   0.710     0.555   0.195        1.9485          0.9455   \n",
       "\n",
       "      Viscera weight  Shell weight  Rings  \n",
       "0             0.1010        0.1500     15  \n",
       "1             0.0485        0.0700      7  \n",
       "2             0.1415        0.2100      9  \n",
       "3             0.1140        0.1550     10  \n",
       "4             0.0395        0.0550      7  \n",
       "...              ...           ...    ...  \n",
       "4172          0.2390        0.2490     11  \n",
       "4173          0.2145        0.2605     10  \n",
       "4174          0.2875        0.3080      9  \n",
       "4175          0.2610        0.2960     10  \n",
       "4176          0.3765        0.4950     12  \n",
       "\n",
       "[4027 rows x 9 columns]"
      ]
     },
     "execution_count": 36,
     "metadata": {},
     "output_type": "execute_result"
    }
   ],
   "source": [
    "DF_new=DF[(z<3).all(axis=1)]\n",
    "DF_new"
   ]
  },
  {
   "cell_type": "code",
   "execution_count": 37,
   "id": "e76913de",
   "metadata": {},
   "outputs": [
    {
     "name": "stdout",
     "output_type": "stream",
     "text": [
      "Old Data Frame (4177, 9)\n",
      "New Data Frame (4027, 9)\n",
      "Total Dropped Rows 150\n"
     ]
    }
   ],
   "source": [
    "print('Old Data Frame',DF.shape)\n",
    "print('New Data Frame',DF_new.shape)\n",
    "print('Total Dropped Rows',DF.shape[0]-DF_new.shape[0])"
   ]
  },
  {
   "cell_type": "code",
   "execution_count": 38,
   "id": "2a154371",
   "metadata": {},
   "outputs": [
    {
     "data": {
      "text/plain": [
       "7.129455909943714"
      ]
     },
     "execution_count": 38,
     "metadata": {},
     "output_type": "execute_result"
    }
   ],
   "source": [
    "# Percentage Loss of Data:\n",
    "    \n",
    "Loss_percentage= (1599-1485)/1599*100\n",
    "Loss_percentage"
   ]
  },
  {
   "cell_type": "markdown",
   "id": "71f13e79",
   "metadata": {},
   "source": [
    "Loss percentage is less than 10%, Hence this is acceptable. We can move ahead"
   ]
  },
  {
   "cell_type": "code",
   "execution_count": 39,
   "id": "8d29d4cf",
   "metadata": {},
   "outputs": [],
   "source": [
    "x=DF_new.iloc[:,:-1]"
   ]
  },
  {
   "cell_type": "code",
   "execution_count": 40,
   "id": "7297f23a",
   "metadata": {},
   "outputs": [],
   "source": [
    "y=DF_new.iloc[:,-1]"
   ]
  },
  {
   "cell_type": "code",
   "execution_count": 41,
   "id": "fb316658",
   "metadata": {},
   "outputs": [
    {
     "data": {
      "text/plain": [
       "(4027, 8)"
      ]
     },
     "execution_count": 41,
     "metadata": {},
     "output_type": "execute_result"
    }
   ],
   "source": [
    "x.shape"
   ]
  },
  {
   "cell_type": "code",
   "execution_count": 42,
   "id": "979e570a",
   "metadata": {},
   "outputs": [
    {
     "data": {
      "text/plain": [
       "(4027,)"
      ]
     },
     "execution_count": 42,
     "metadata": {},
     "output_type": "execute_result"
    }
   ],
   "source": [
    "y.shape"
   ]
  },
  {
   "cell_type": "markdown",
   "id": "57f62276",
   "metadata": {},
   "source": [
    "Removing Skewness from the Dependent Variables."
   ]
  },
  {
   "cell_type": "code",
   "execution_count": 44,
   "id": "56a5c9f9",
   "metadata": {},
   "outputs": [],
   "source": [
    "from sklearn.preprocessing import power_transform"
   ]
  },
  {
   "cell_type": "code",
   "execution_count": 45,
   "id": "eb327d74",
   "metadata": {},
   "outputs": [],
   "source": [
    "x=power_transform(x,method='yeo-johnson')"
   ]
  },
  {
   "cell_type": "code",
   "execution_count": 53,
   "id": "a8d18efe",
   "metadata": {},
   "outputs": [
    {
     "data": {
      "text/plain": [
       "0   -0.174523\n",
       "1   -0.082985\n",
       "2   -0.080956\n",
       "3   -0.015962\n",
       "4   -0.016797\n",
       "5    0.021815\n",
       "6    0.035902\n",
       "7    0.016660\n",
       "dtype: float64"
      ]
     },
     "execution_count": 53,
     "metadata": {},
     "output_type": "execute_result"
    }
   ],
   "source": [
    "# Checking for skewness\n",
    "DF1=pd.DataFrame(x)\n",
    "DF1.skew()"
   ]
  },
  {
   "cell_type": "code",
   "execution_count": 47,
   "id": "72bc3657",
   "metadata": {},
   "outputs": [],
   "source": [
    "from sklearn.model_selection import train_test_split\n",
    "from sklearn.metrics import confusion_matrix,accuracy_score,classification_report\n",
    "from sklearn.metrics import mean_squared_error, mean_absolute_error\n",
    "from sklearn.metrics import r2_score"
   ]
  },
  {
   "cell_type": "code",
   "execution_count": 167,
   "id": "0d2fdce4",
   "metadata": {},
   "outputs": [],
   "source": [
    "x_train,x_test,y_train,y_test=train_test_split(x,y,test_size=.20,random_state=97)"
   ]
  },
  {
   "cell_type": "code",
   "execution_count": 168,
   "id": "c41a6b45",
   "metadata": {},
   "outputs": [
    {
     "data": {
      "text/plain": [
       "(3221, 8)"
      ]
     },
     "execution_count": 168,
     "metadata": {},
     "output_type": "execute_result"
    }
   ],
   "source": [
    "x_train.shape"
   ]
  },
  {
   "cell_type": "code",
   "execution_count": 169,
   "id": "8f004a62",
   "metadata": {},
   "outputs": [
    {
     "data": {
      "text/plain": [
       "(806, 8)"
      ]
     },
     "execution_count": 169,
     "metadata": {},
     "output_type": "execute_result"
    }
   ],
   "source": [
    "x_test.shape"
   ]
  },
  {
   "cell_type": "code",
   "execution_count": 170,
   "id": "d29226e9",
   "metadata": {},
   "outputs": [
    {
     "data": {
      "text/plain": [
       "(3221,)"
      ]
     },
     "execution_count": 170,
     "metadata": {},
     "output_type": "execute_result"
    }
   ],
   "source": [
    "y_train.shape"
   ]
  },
  {
   "cell_type": "code",
   "execution_count": 171,
   "id": "94aa3a3a",
   "metadata": {},
   "outputs": [
    {
     "data": {
      "text/plain": [
       "(806,)"
      ]
     },
     "execution_count": 171,
     "metadata": {},
     "output_type": "execute_result"
    }
   ],
   "source": [
    "y_test.shape"
   ]
  },
  {
   "cell_type": "markdown",
   "id": "cc00de05",
   "metadata": {},
   "source": [
    "# Modelling"
   ]
  },
  {
   "cell_type": "markdown",
   "id": "da334214",
   "metadata": {},
   "source": [
    "Linear Regression."
   ]
  },
  {
   "cell_type": "code",
   "execution_count": 172,
   "id": "9b2c2da2",
   "metadata": {},
   "outputs": [],
   "source": [
    "from sklearn.linear_model import LinearRegression\n",
    "ln=LinearRegression()"
   ]
  },
  {
   "cell_type": "code",
   "execution_count": 173,
   "id": "e5b8ba48",
   "metadata": {},
   "outputs": [
    {
     "data": {
      "text/plain": [
       "LinearRegression()"
      ]
     },
     "execution_count": 173,
     "metadata": {},
     "output_type": "execute_result"
    }
   ],
   "source": [
    "ln.fit(x_train,y_train)"
   ]
  },
  {
   "cell_type": "code",
   "execution_count": 174,
   "id": "e884027b",
   "metadata": {},
   "outputs": [
    {
     "data": {
      "text/plain": [
       "0.5066257669258425"
      ]
     },
     "execution_count": 174,
     "metadata": {},
     "output_type": "execute_result"
    }
   ],
   "source": [
    "ln.score(x_train,y_train)"
   ]
  },
  {
   "cell_type": "code",
   "execution_count": 175,
   "id": "b9140681",
   "metadata": {},
   "outputs": [
    {
     "name": "stdout",
     "output_type": "stream",
     "text": [
      "Predicted Quality [ 9.98430427 12.09632068 10.6009605   8.97411769  8.06334758  7.11414654\n",
      " 10.02933934  8.89407658 10.20105474  9.60989844  9.81364163  9.66685928\n",
      "  9.79813269 10.18106656 10.45974003  6.30932433  9.86245765  9.19545462\n",
      "  7.98865457 11.2325055  11.75741036  8.42003281  7.6139881   8.08061332\n",
      "  7.48096307 10.66656558 10.53444498  6.5715728   9.16718395  7.08035989\n",
      "  8.39807431  9.34869237  8.96364384  6.81738627  6.38339976  9.01492719\n",
      " 12.80217656  9.53261336 11.37233627  7.75204581 11.67518877  7.80213394\n",
      "  8.77172806  9.3589553   8.87730094  7.30155224  7.23242624 12.70701556\n",
      "  6.69761518  8.36017774  8.5781002  10.20617128  9.98273407 11.24883728\n",
      " 13.9207551  13.23119947  9.79800642  9.05707002 12.61966624  6.86977882\n",
      " 10.33142916 10.10909515  8.60748396 10.83637075 11.37175499  8.63378588\n",
      "  8.58872152  7.58139406 14.14154568  6.66381346  8.82891422  8.87676995\n",
      "  9.65896331 11.98853788 10.54097221 11.12916662  9.20144106  9.48649246\n",
      "  9.77082018  7.71180313  7.04785597 11.63152222  8.96494043  8.10803349\n",
      " 12.24123687 12.37880076  8.25516547  9.0674165  12.45988656 12.60411498\n",
      " 10.35436579  9.61255106  7.96615364  6.93905927 12.63624606 11.87764392\n",
      " 12.32061994 11.91576096 11.14480499 11.83452515  9.69886284  8.38059811\n",
      "  7.35590109 10.91586705  9.67096945  8.21801149  7.95275575 12.40348649\n",
      " 10.59933362 10.42778288  8.5409434   6.64081643  9.22506627  7.48988749\n",
      "  7.92940065  9.1461848   7.69700094  9.39855707  9.92101528 12.7878362\n",
      " 14.49561808 12.22406542 10.68334078 10.24221858  8.21603033  8.56517901\n",
      "  9.06226477  9.87013889  9.23999327  8.00284408  7.38082127 12.86776865\n",
      "  7.64166154  6.14150521  8.91905975 10.92051852  6.93814609 10.01553237\n",
      "  9.97544426 11.45046715  8.35850905  9.75855678 12.05208489 10.29457657\n",
      "  8.9808986  10.93792692 13.33479184  8.99365197 10.64382516  6.83791646\n",
      " 13.87329469  8.76492862 10.59417451  8.41996869 11.22018823  9.53328383\n",
      "  7.61813502 12.16903053  8.22593059  8.0898529  10.83475296  7.19439202\n",
      " 14.60417973 10.05700033  9.11540171  8.81889313 12.94667229 10.34837915\n",
      " 10.99095175  7.73262479 10.95501298  7.35397364  9.29921934  9.26098613\n",
      "  9.84289283  7.18023194  7.68810918  7.48600686  9.6978367   7.42894515\n",
      "  8.41155334 14.4947564   7.78061559  7.12032705  8.46536138 14.16936112\n",
      "  9.58209826  7.34497025  9.31407164 10.76685786  7.67095091 11.54609495\n",
      " 13.8748114  10.7230808   7.16859527 10.58650303  9.428275   12.6048966\n",
      "  6.53071782  8.50829993  7.33297316  9.21295563  9.03339996  9.25305916\n",
      " 11.04550943  8.49064275 10.01288326  8.05323228 12.90160089 11.71653199\n",
      "  6.55280812 12.21655231 12.48858433  8.69013083  9.96620429 11.977947\n",
      " 12.10198243 12.94721803  7.68400233 11.30695138  9.43151704  7.56462469\n",
      "  9.60179275  8.76131191 12.28669518  7.49572936  8.87607109  8.85693352\n",
      " 12.56518703 13.44320224 13.39614163  7.266551    7.8257493   7.41693288\n",
      "  9.94205328  7.40057834  8.2311675   7.95639221  7.98999144 16.74554284\n",
      "  6.52224732  7.85397055 12.80947937  6.87939457 10.5549324  10.46901061\n",
      "  7.11381563 10.28494852  9.4348959  11.99891508  9.21247381 10.53161805\n",
      " 10.70186836  9.52989822  9.64196127  9.57396514  9.19524506  9.22232717\n",
      " 11.55588881  9.72907925  7.89844592 10.46183952  8.5755013   9.90175028\n",
      " 10.22730874 11.36502036 10.56780589  8.71940549  9.07468628  7.21069521\n",
      "  8.38068617  8.45217814  8.25322425 14.04839195  8.59891789  7.13661247\n",
      " 10.12981149 10.22499852 11.23716663 15.53108466 11.25098773 14.10211206\n",
      "  8.35261455 10.37126072  7.17391384 12.94813341  8.23149088  7.23680258\n",
      "  6.14773007  9.39586699  9.09505263  9.77216975  9.57649186 13.65575487\n",
      " 12.14511507  9.54782338 12.72398694  9.50878521  8.77901527 14.90626783\n",
      " 12.35170214  8.88976323  8.76443584  9.30364687 11.53762997  7.23314346\n",
      "  8.59070703 13.58869962  9.866271   12.91847324 10.47666846 10.55292176\n",
      " 10.36052149 10.98005639  9.56606238  8.27099669 11.52247264  7.73987907\n",
      "  7.01726766 13.19383358  9.66797995  7.9442456   6.44184187  8.55237918\n",
      "  6.62794594 10.61621593  7.80758525 10.20993369  7.7246991   9.57257186\n",
      "  8.38389462 13.85863906 12.11333472  9.63274288  7.1404643  11.91484759\n",
      "  6.49662113  8.53767253 11.81080611  8.21770924  8.42689717 12.059349\n",
      "  9.91654234 10.13020181  9.4196329  14.57252047  6.96611837 11.66101474\n",
      " 10.28023135  8.65998202  9.44047241 10.09449586  7.34193444  9.68108263\n",
      "  9.21662089 13.08747224  8.65532419 16.30721214 11.05685525  7.83905381\n",
      " 11.04092315  9.85866892  9.9904648  12.45555232 13.95667061  8.51732552\n",
      "  8.63516905 16.24169894  9.97206387  7.60598242 13.13230639  8.20042994\n",
      " 11.98427167 10.64916345  6.45976564  6.46902396  8.29103729  8.43181521\n",
      " 10.10541443  9.31531398  6.46120258  6.41810713  9.52117393  7.72562894\n",
      " 10.57600716 11.72498486  9.59659711 14.15412735 12.74406835  9.08597801\n",
      "  7.4215323   9.02006765 10.27136873 10.16683093  8.3868522   8.32648103\n",
      "  9.17633151 11.04264318 10.92483457  7.35464066 10.59669284  8.64584628\n",
      " 10.33360231 10.44158615  7.19288862 10.97168354 10.51982057  7.08729619\n",
      "  8.31217769  7.58215397  8.23944234 11.52771227 11.35494663  9.75413075\n",
      "  7.07959845 12.99051679 11.05810208 10.4645674   6.8601179   7.63979255\n",
      " 12.23936518  8.43696935  6.69827789  8.2843029   6.27979965 13.1306215\n",
      "  9.51953966 11.64298448 -2.93375141 11.51845323  9.1290605   7.788248\n",
      "  6.81877014 11.57538202  9.77680589  8.91317171  9.68898707 10.61900053\n",
      "  7.43531581 13.25197442  8.22569827  9.42202067  7.60968002  8.4519078\n",
      "  8.69959548  7.64042699  6.83898093 10.84282317  8.61785667  9.45099\n",
      "  8.58079037  9.44387128  9.10239545 10.49035614 10.87576291  9.33791614\n",
      " 12.78632987 10.92755365  7.62734349 14.58359314  9.67590751  8.90797058\n",
      "  8.98436478  8.46240254 10.71189686 10.43825661 14.47596475 10.19762139\n",
      " 11.88757034 10.92199141 11.68443386 11.53961135 11.11575607  7.28620763\n",
      "  8.32187061  9.18430407  7.63926116  7.4028139   8.13259428  9.20775901\n",
      " 12.96852442  9.60632856 12.89429506  8.87290057 10.7344025   9.76221435\n",
      "  8.48253257  6.24371807 10.75398672  8.33588907 10.33446967  7.91371786\n",
      "  7.79044116 12.97757699  9.8493757  10.19393393  9.24856299  9.27220964\n",
      "  8.09019844 10.28283271  8.28263876  7.91908389  6.1676855  10.00033246\n",
      " 10.40414698  8.58503594 14.56482697 10.78038754 12.23120604  7.39232495\n",
      " 10.36480894  9.19159369 10.63404491  9.35825002  9.74348839  7.46077364\n",
      "  7.8507467  11.54798245  8.30435367  9.91132536  6.8158604  10.04838696\n",
      "  8.70049877  8.77884191  9.79038965 13.22556516 11.18030557 11.0548459\n",
      "  9.79997652  7.76223367  6.33583902 13.50446899  7.64087563 12.30107069\n",
      " 13.86415858  8.79396794  8.35543449 15.24913678 12.09499683  8.90418262\n",
      " 10.0872441  10.95232473  8.78223986  8.77367783  6.51486855  8.41992591\n",
      "  8.594527    7.37497624 10.00331485  8.72364555  7.58591956 10.35603672\n",
      "  7.08188874 11.91586894  7.99763714  9.07365909  9.00893098  7.06118164\n",
      "  7.60803163 12.83169293 10.85344543 11.28924012  9.40400068  7.09698725\n",
      " 10.27155824  8.29608238  6.87959003 12.11591453 12.39624591 11.73386012\n",
      "  7.17987101 12.4001324   9.27348756  7.77003804 11.82973151  9.00734812\n",
      " 10.27270669 10.93119237  8.85842366  8.08715775  7.2676823   6.48789847\n",
      "  9.54176542  6.3828907   7.06339153 12.64471193  9.32890416 11.9114645\n",
      "  8.45718275  8.54073455  6.04612653  9.87725033 10.725513    8.88360467\n",
      " 10.26488333 10.69697557  7.61358673 13.15706472  8.90597871  8.20607529\n",
      "  7.88747951  7.92042752  8.11987383  7.24417516 10.80248688 10.89832144\n",
      " 11.19079704 11.69287405  7.11622696  8.1804664   7.65368548 10.70162967\n",
      "  6.85887962 10.22126542  7.96715158  8.22915644  7.59153443 13.28089906\n",
      " 11.61184169 11.54381438 10.40282191 10.01075461 12.22849583  7.10851095\n",
      "  8.54333483  8.56160144  7.41937068 11.37630112 10.08663226  7.33954792\n",
      "  9.13033639 10.83141899  9.98768748 11.27437866 12.14382852 12.63524782\n",
      "  7.1846516  12.97463931 13.15823011 13.05222433 10.42056324  8.35907308\n",
      " 10.68026239  6.90681399 10.61985743  7.81786556  9.34787274  8.78898921\n",
      " 10.05802848  7.87529614  8.4151928  10.43985755 11.75541266  9.9393663\n",
      "  9.15353798  9.0162874  10.76013888  6.19270591 11.71979693 11.55263332\n",
      "  8.32292703 13.36150564 11.00271245  9.64884528 11.34956658  8.94592298\n",
      "  9.89309818 12.73459289  9.25558698  8.27762755 10.00317038  8.08325472\n",
      " 10.40732737  9.37044411  9.78284091  7.85770567 10.53726263  7.33753933\n",
      " 10.2288467   7.65139771 10.15749993  7.86592002 10.99752946 12.80789596\n",
      " 11.30916724 14.36876431 12.59583719  8.3462263   7.69381243 12.61435693\n",
      " 11.75681459 11.34048738 11.90463114 12.07684355 13.1109881   9.97277214\n",
      " 11.63322486  8.78206421 10.70724169  8.36962033  9.86434341  9.27946138\n",
      " 10.35272389  6.54239246 10.87213792  7.40754001 10.53089839 10.41034091\n",
      "  8.95712139  9.51858205 10.02473022  6.97874432 11.86400823  9.71424122\n",
      "  8.47359916  8.82478001  9.01218612  6.92751025 12.63818111  9.42713514\n",
      "  7.39601634  6.1717164   9.67231569 10.32659528  8.88498552  7.30863674\n",
      " 10.17798005 12.04221801 10.15977511 11.70859324  5.69859576  9.22077493\n",
      "  9.01226533 10.0584387   7.24314269 11.83303743 12.36657045 11.78663614\n",
      " 11.00017852  9.58125334 11.15182219  8.63862247 13.77112857  8.2531219\n",
      "  8.49124942 10.31065992  7.68136416  7.81871271 15.05100803 10.81477835\n",
      " 13.19179922  9.66529848 10.91205689 11.93123887 10.45668958  9.16032821\n",
      "  7.83594275  9.5355292   8.33393675 11.56296744 10.29904151  6.81158566\n",
      " 10.19302788  6.39769052  8.07470997 10.56131796 12.6552888   8.41506595\n",
      "  9.90515094  9.51039581  9.77234087  8.9547551  10.94758523  8.751411\n",
      " 10.20913179  6.15284629 12.32525045 10.37060155  7.34546013 11.1591985\n",
      " 10.00890104 10.76452122  8.89649422  6.9683576   8.87179048  7.55126264\n",
      " 10.76048521 17.53695857 13.52087504  7.28995843 12.74267888 11.68928987\n",
      " 10.5721886  10.96493531 11.28395472  8.36320401 11.55632554 10.74269195\n",
      " 11.98313039 10.83423835 10.01459589 12.32067374 14.7466522  12.42397559\n",
      " 11.22013719  6.98107089]\n",
      "Actual Quality 1649    10\n",
      "3285    13\n",
      "3510     9\n",
      "1502    11\n",
      "3729     9\n",
      "        ..\n",
      "2404    15\n",
      "496     12\n",
      "3799    11\n",
      "1022    11\n",
      "2312     8\n",
      "Name: Rings, Length: 806, dtype: int64\n"
     ]
    }
   ],
   "source": [
    "pred= ln.predict(x_test)\n",
    "print('Predicted Quality', pred)\n",
    "print('Actual Quality', y_test)"
   ]
  },
  {
   "cell_type": "code",
   "execution_count": 176,
   "id": "184be76a",
   "metadata": {},
   "outputs": [
    {
     "name": "stdout",
     "output_type": "stream",
     "text": [
      "mean_absolute_error : 1.4940500716299672\n",
      "mean_squared_error : 3.9709574185509013\n",
      "Root Mean Squared Error : 1.992726127331827\n"
     ]
    }
   ],
   "source": [
    "print('mean_absolute_error :', mean_absolute_error(y_test,pred))\n",
    "print('mean_squared_error :', mean_squared_error(y_test,pred))\n",
    "print('Root Mean Squared Error :', np.sqrt(mean_squared_error(y_test,pred)))"
   ]
  },
  {
   "cell_type": "code",
   "execution_count": 177,
   "id": "aea69d83",
   "metadata": {},
   "outputs": [
    {
     "name": "stdout",
     "output_type": "stream",
     "text": [
      "0.5347493944568126\n"
     ]
    }
   ],
   "source": [
    "print(r2_score(y_test,pred))"
   ]
  },
  {
   "cell_type": "markdown",
   "id": "c65231ea",
   "metadata": {},
   "source": [
    "Logistic Regression"
   ]
  },
  {
   "cell_type": "code",
   "execution_count": 178,
   "id": "859439a0",
   "metadata": {},
   "outputs": [],
   "source": [
    "from sklearn.linear_model import LogisticRegression\n",
    "lr=LogisticRegression()\n",
    "from sklearn.metrics import classification_report, confusion_matrix"
   ]
  },
  {
   "cell_type": "code",
   "execution_count": 179,
   "id": "7ccf97d5",
   "metadata": {},
   "outputs": [
    {
     "data": {
      "text/plain": [
       "LogisticRegression()"
      ]
     },
     "execution_count": 179,
     "metadata": {},
     "output_type": "execute_result"
    }
   ],
   "source": [
    "lr.fit(x_train,y_train)"
   ]
  },
  {
   "cell_type": "code",
   "execution_count": 180,
   "id": "0d44a948",
   "metadata": {},
   "outputs": [
    {
     "name": "stdout",
     "output_type": "stream",
     "text": [
      "Predicted Quality [10 11 10  9  8  7  9  8 10  9  9  9  9  9 10  4  9  9  7 11 11  8  7  8\n",
      "  7 10 10  6  9  9  8  9  8  5  5  9 13  9 11  8 11  8  9  8  9  6  6 11\n",
      "  7  9  9 11 10 10 11 11  9  9 10  6 10 10  9 10 10  9  8  8 11  5  9  8\n",
      "  9 10 10 11  9  8  9  7  7 11  9  8 11 11  8  9 11 10  9  9  8  8 11 11\n",
      " 11 11 10 11  9  8  7 10  9  8  7 11 10 10  9  5  8  7  7  9  8  8 10 10\n",
      " 13 11 10 10  7  8  9 10  9  7  6 13  7  5  8 10  6  9  9 10  8  9 11 10\n",
      "  9 10 11  9 10  5 11  8 10  7 10  9  8 13  8  9 10  6 11  9  8  8 13 10\n",
      " 11  8 10  7  9  9  9  7  6  7  9  7  8 13  6  6  8 13  9  6  9 10  8 10\n",
      " 13 10  7 10  9 13  5  8  8  9  9  8 10  8  9  8 13 11  6 11 13  9  9 10\n",
      " 10 11  6 10  9  7  9  9 11  7  9  9 11 13 11  7  7  6  9  7  7  7  8 13\n",
      "  6  8 10  6 10 10  5  9  9 13  9 10 10  9  9  8  9  8 11  9  7 10  7 10\n",
      " 11 10 10  9  9  7  8  8  8 13  9  7 10 10 10 11 11 11  9  9  8 11  8  7\n",
      "  5  9  9  9  9 11 11  9 10  9  8 13 10  8  9  9 11  7  8 13  9 13 10 11\n",
      " 10 10  9  8 10  8  5 11  9  8  6  9  6 10  9 11  8  9  8 13 13  9  6 13\n",
      "  6  9 11  7  8 11  9 10  9 13  7 11 10  9  9  9  6  9  9 13  9 11 10  7\n",
      " 10  8  9 13 11  8  8 13  9  7 11  7 11 10  5  5  8  8  9  9  5  5  9  7\n",
      " 10 13  9 11 13  9  7  9  9  9  9  7  8 11 10  7 10  9  9 10  7 10 10  7\n",
      "  7  7  7 10 10  9  7 11 10 11  6  7 10  8  5  8  4 11  9 11  7 11  9  7\n",
      "  6 11  9  8  9 10  7 13  9  9  7  7  9  6  7 10  9  9  8  9  9 10 10  9\n",
      " 11 10  7 13  9  9  9  8 10 10 13  9 10 11 10 10 10  7  7  9  8  8  8  9\n",
      " 11  9 13  9 10  9  8  5 10  9 10  7  7 11  9  9  9  9  8 10  9  8  7  9\n",
      "  9  8 11 11 10  6 10  9 10  9  9  7  8 10  8  9  5  9  9  9  9 13 10 10\n",
      "  9  7  5 13  7 13 11  9  8 13 10  8 10 11  9  8  7  9  8  7  9  8  6 10\n",
      "  6 10  9  8  9  5  7 11 10 11  9  7 10  8  7 10 11 11  6 10  9  7 10  8\n",
      " 10 10  8  7  6  6  9  5  6 11  9 10  8  8  5  9 10  8 10 10  7 11  8  7\n",
      "  7  8  8  6 10 10 11 10  7  7  7 10  5  9  8  8  7 11 10 10 10  9 11  6\n",
      "  8  8  7 10  9  8  9 10 10 10 12 11  6 13 11 11 10  9 10  6 10  7  9  9\n",
      "  9  8  9 10 11  9  9  7 10  4 10 10  8 11 10  9 10  8 10 13  9  7  9  8\n",
      " 10  9  9  8  9  7 10  9 10  7 10 13 10 13 13  8  7 11 11 10 13 11 11  9\n",
      " 10  8 10  7  9  9 10  5 10  7 10 10  9  9  9  6 13  9  8  9  8  6 11  8\n",
      "  8  4  9 10  9  6  9 11  9 11  4  9  9  9  7 10 13 11 11  9 10  8 16  8\n",
      "  9 10  8  8 11 10 11  9 10 10 10  9  8  9  8 11  9  6  9  5  8 11 11  9\n",
      "  9  9  9  9 10  9  9  5 10 10  6 10  9 10  8  6  9  8 10 13 11  8 11 10\n",
      " 10 11 10  8 10 10 10 10  9 10 13 11 10  6]\n",
      "Actual Quality 1649    10\n",
      "3285    13\n",
      "3510     9\n",
      "1502    11\n",
      "3729     9\n",
      "        ..\n",
      "2404    15\n",
      "496     12\n",
      "3799    11\n",
      "1022    11\n",
      "2312     8\n",
      "Name: Rings, Length: 806, dtype: int64\n"
     ]
    }
   ],
   "source": [
    "pred= lr.predict(x_test)\n",
    "print('Predicted Quality', pred)\n",
    "print('Actual Quality', y_test)"
   ]
  },
  {
   "cell_type": "code",
   "execution_count": 181,
   "id": "3e0e279e",
   "metadata": {},
   "outputs": [
    {
     "data": {
      "text/plain": [
       "0.2893511331884508"
      ]
     },
     "execution_count": 181,
     "metadata": {},
     "output_type": "execute_result"
    }
   ],
   "source": [
    "lr.score(x_train,y_train)"
   ]
  },
  {
   "cell_type": "code",
   "execution_count": 182,
   "id": "c1ec6b27",
   "metadata": {},
   "outputs": [
    {
     "name": "stdout",
     "output_type": "stream",
     "text": [
      "mean_absolute_error : 1.4627791563275434\n",
      "mean_squared_error : 4.827543424317618\n",
      "Root Mean Squared Error : 2.1971671361818648\n"
     ]
    }
   ],
   "source": [
    "print('mean_absolute_error :', mean_absolute_error(y_test,pred))\n",
    "print('mean_squared_error :', mean_squared_error(y_test,pred))\n",
    "print('Root Mean Squared Error :', np.sqrt(mean_squared_error(y_test,pred)))"
   ]
  },
  {
   "cell_type": "code",
   "execution_count": 183,
   "id": "e805d887",
   "metadata": {},
   "outputs": [
    {
     "name": "stdout",
     "output_type": "stream",
     "text": [
      "0.43438892319590006\n"
     ]
    }
   ],
   "source": [
    "print(r2_score(y_test,pred))"
   ]
  },
  {
   "cell_type": "code",
   "execution_count": 184,
   "id": "1efc3950",
   "metadata": {},
   "outputs": [
    {
     "name": "stdout",
     "output_type": "stream",
     "text": [
      "accuracy score : 0.2853598014888337\n"
     ]
    }
   ],
   "source": [
    "print('accuracy score :',accuracy_score(y_test,pred))"
   ]
  },
  {
   "cell_type": "markdown",
   "id": "adb90c86",
   "metadata": {},
   "source": [
    "Support Vector Machine"
   ]
  },
  {
   "cell_type": "code",
   "execution_count": 185,
   "id": "3b137568",
   "metadata": {},
   "outputs": [],
   "source": [
    "from sklearn.svm import SVC\n",
    "s=SVC()"
   ]
  },
  {
   "cell_type": "code",
   "execution_count": 186,
   "id": "9bead9d2",
   "metadata": {},
   "outputs": [
    {
     "data": {
      "text/plain": [
       "SVC()"
      ]
     },
     "execution_count": 186,
     "metadata": {},
     "output_type": "execute_result"
    }
   ],
   "source": [
    "s.fit(x_train,y_train)"
   ]
  },
  {
   "cell_type": "code",
   "execution_count": 187,
   "id": "989e9de4",
   "metadata": {},
   "outputs": [
    {
     "name": "stdout",
     "output_type": "stream",
     "text": [
      "Predicted Quality [ 9 11 11  9  8  7 10  7  9 10  8  9  9 11 10  5  9  9  7 11 10  8  7  8\n",
      "  7  9 10  6  9  8  7  9  7  5  5  9 10  8 11  9 10  8  9  8  9  6  6 11\n",
      "  8  9  9 11  9  9 11 11  9  9 10  6  9 10  9 10 10  8  9  8 10  5  8  8\n",
      "  9 10  9 10  8  8  9  7  7 11  8  8 10 11  8  9 11 10  9  9  8  8 11 11\n",
      " 10 10 10 10  9  7  7 10  9  8  7 11  9 10  7  5  8  7  7  9  8  9  9 10\n",
      " 10 11  9  9  7  8  7 10  9  7  7 10  7  5  8 10  6  9 10 10  7 11 11 10\n",
      "  9 10 11  9  9  5 11  8 10  7 10  9  8  9  8  9  9  6 11  9  8  8 10 10\n",
      " 11  8  9  7  9  9 11  7  7  7  9  7  7 10  7  6  8 10  9  6  8  9  7 10\n",
      " 11 10  7 10 10 10  5  8  8  8  9  8 10  8  9  8 10 10  6 11 10  9  9 10\n",
      " 10 11  7 10  9  7  9  9 10  7  9  9 11 10 10  7  7  6  9  7  7  8  8 11\n",
      "  6  8 11  6 10 10  5  9  9  9  9 10 10  9  9  8 10  8 11  9  7  9  7 10\n",
      " 11 10  9  9  9  7  7  8  8 10  9  7  9 10 10 11 10 11  9  9  9 10  7  7\n",
      "  5  9  9 10  9 10 11  9 10  9  8 11 10  8  9  9 10  7  9 10  9 10 10 10\n",
      "  9 10  9  8 10  8  5 11  8  9  6  9  5  9  9 11  8  9  9 10  9  9  6  9\n",
      "  6  8 11  7  8 10 10 10  9 10  7 11  9 11  9  9  6  9  9 10  8 11  9  7\n",
      "  9  8 10 10 10  7  7 11  9  7 10  7 10  9  5  5  7  8  9  9  5  5  9  7\n",
      "  9  9  9 11 10  9  7  8  9 10  9  7  8 10  9  7  9  9  9  9  7  9  9  7\n",
      "  7  7  7 10 11  9  7 10 10 11  6  7 10  8  5  8  5 10  9 10  7 11  9  7\n",
      "  6 10  9  8  8  9  7 10  9  8  7 10  9  7  7 10  9  7  8  8  9  9  9  8\n",
      " 10  9  7 10  9  9  8  7 11 10 11 10 10 10 11 10 10  7  7  8  8  8  8  8\n",
      " 11  9 10  9 10  9  8  5 10  9 10  7  7 11  9  9  9  9  8 10  9  8  7  9\n",
      "  9  7 11 11 10  6  9  8  9  9  9  7  8 11  7  9  5  9 10  9  9 10  9 10\n",
      "  8  7  5 10  7 10 11  9  8 10 10  8 10 10  9  9  7  8  8  7  9  8  6 10\n",
      "  7 10  9  8  9  5  7 11  9 10  8  7  9  8  7 10 11 10  6 10  9  7 10  9\n",
      " 10 10  7  7  7  6  9  5  6 11  9 10  7  8  5  9  9  7  9  9  7 10  8  7\n",
      "  7  8  8  6 10  9 11 10  7  7  7 10  5  9  8  8  7 10 10 10  9  9 11  6\n",
      "  8 10  6 11  9  8  9 10  9 10 10 10  6 10 10 11  9  8  9  6 10  7  9  9\n",
      "  9  8  9 10 10  9  9  7 10  5 11  9  9 11  9 10 10  9  9 10 10  7  9  8\n",
      " 10  9  9  8  9  7 10  9 10  7 10 10 10 10 10  8  7 11 10 10  9 11 10  9\n",
      " 10  9  9  7  9  9  9  5 10  7  9  9  9  9 10  6 10  9  9 11  7  6 11  9\n",
      "  9  5  9  9  9  6  8 10  9 11  5  9 10  9  7 10  9 11 11  9 10  7 10  8\n",
      "  8 10  8  8 11 10 10  9 10 11 10  9  7  8  9 10  9  6  9  5  8 10 11  9\n",
      "  9  9  9  9  9  9  9  5 10  9  6 10  9 10  8  6  9  8 11 10 11  9 10 10\n",
      " 10 10 10  8 10 10 11  9  9 10 10 11 10  6]\n",
      "Actual Quality 1649    10\n",
      "3285    13\n",
      "3510     9\n",
      "1502    11\n",
      "3729     9\n",
      "        ..\n",
      "2404    15\n",
      "496     12\n",
      "3799    11\n",
      "1022    11\n",
      "2312     8\n",
      "Name: Rings, Length: 806, dtype: int64\n"
     ]
    }
   ],
   "source": [
    "pred= s.predict(x_test)\n",
    "print('Predicted Quality', pred)\n",
    "print('Actual Quality', y_test)"
   ]
  },
  {
   "cell_type": "code",
   "execution_count": 188,
   "id": "9928fff2",
   "metadata": {},
   "outputs": [
    {
     "data": {
      "text/plain": [
       "0.29214529649177273"
      ]
     },
     "execution_count": 188,
     "metadata": {},
     "output_type": "execute_result"
    }
   ],
   "source": [
    "s.score(x_train,y_train)"
   ]
  },
  {
   "cell_type": "code",
   "execution_count": 189,
   "id": "b51849ba",
   "metadata": {},
   "outputs": [
    {
     "name": "stdout",
     "output_type": "stream",
     "text": [
      "mean_absolute_error : 1.6451612903225807\n",
      "mean_squared_error : 6.198511166253102\n",
      "Root Mean Squared Error : 2.489680936636882\n"
     ]
    }
   ],
   "source": [
    "print('mean_absolute_error :', mean_absolute_error(y_test,pred))\n",
    "print('mean_squared_error :', mean_squared_error(y_test,pred))\n",
    "print('Root Mean Squared Error :', np.sqrt(mean_squared_error(y_test,pred)))"
   ]
  },
  {
   "cell_type": "code",
   "execution_count": 190,
   "id": "5d8be7fe",
   "metadata": {},
   "outputs": [
    {
     "name": "stdout",
     "output_type": "stream",
     "text": [
      "accuracy score : 0.2630272952853598\n"
     ]
    }
   ],
   "source": [
    "print('accuracy score :',accuracy_score(y_test,pred))"
   ]
  },
  {
   "cell_type": "code",
   "execution_count": 191,
   "id": "468ec4dd",
   "metadata": {},
   "outputs": [
    {
     "name": "stdout",
     "output_type": "stream",
     "text": [
      "0.27376177339674035\n"
     ]
    }
   ],
   "source": [
    "print(r2_score(y_test,pred))"
   ]
  },
  {
   "cell_type": "markdown",
   "id": "b7f4ba33",
   "metadata": {},
   "source": [
    "Decision Forest\n"
   ]
  },
  {
   "cell_type": "code",
   "execution_count": 192,
   "id": "95cf7568",
   "metadata": {},
   "outputs": [],
   "source": [
    "from sklearn.tree import DecisionTreeClassifier\n",
    "dt=DecisionTreeClassifier()"
   ]
  },
  {
   "cell_type": "code",
   "execution_count": 193,
   "id": "46924f7f",
   "metadata": {},
   "outputs": [
    {
     "data": {
      "text/plain": [
       "DecisionTreeClassifier()"
      ]
     },
     "execution_count": 193,
     "metadata": {},
     "output_type": "execute_result"
    }
   ],
   "source": [
    "dt.fit(x_train,y_train)"
   ]
  },
  {
   "cell_type": "code",
   "execution_count": 194,
   "id": "4571f241",
   "metadata": {},
   "outputs": [
    {
     "name": "stdout",
     "output_type": "stream",
     "text": [
      "Predicted Quality [12 10 13  8  8 10 10 10  8 10  8  9  9 10 11  6 11 10  6 11 11  8  7  8\n",
      "  6 12  9  6  9  8  7  8 13  9  5  8 17  9 10  8 10  9  7 10  8  6  6 17\n",
      "  7  9  9  8 16 13 14 10 14  8 15  6 10 11 10 18 12  8  7  7 18  4  7  8\n",
      "  8  9 13 11 11  9 11  7  7 10  9  8 10 11  8  8 10 13  9 11  9  7 11 11\n",
      " 19 11 12 10  9 10  9 13 11  9  8 11 10 11  7  6 10  8  6 11 11 10 15 10\n",
      " 16 11 14 15  7  9  8  9 12  8  6 10  6  5  8 15  5 10  7 14 12 10 10 11\n",
      "  9 10  9  8  8  8 13  7 15  7 10 10  8 15  9  8 11  7 15  9  9  9 15 11\n",
      " 11  8 11  8  9  8 11  7  7  7 14  7 11 12  7  6  7 10 14  6  9 14 14  9\n",
      " 10 13  8  8  9 13  5 13  8  7 10 12 10  6 11  7 10  9  7 10 13 10  8 13\n",
      " 11 11  6 10  8  8  9  9 11  7 11 14  9 13 12  9  7  6 12  6  7 13  8 11\n",
      "  6  8 15  6 10 11  7 11  9 12  8 12 10  6 12 13 11 18 10 10  7  9 12 14\n",
      "  9 15 11  8  8  7  8  8  7 18  9  6 14 10 10 12  9 11  9 11 11 18  6  6\n",
      "  4  7  7  9 11 14 10 10 11 10  7 15 13  8  9  9 10  7  8 18 12 10  9 10\n",
      "  9 11  9 12 11  8  6 12  9  9  6  9  6 11 12 12  8  9  9 17 12  9  6 14\n",
      "  6 10  9  7  9 10 10 10 10 18  8 11  9 12  8  8  7 12  7 17  9 12  9  9\n",
      " 11 12 12 10 13  8  7 10  8  7 14  7 12  8  5  4 10 10  9 13  4  4 14  9\n",
      " 13 12 11 11 15 13  7  8 11  9 10  9 10 10 17  7  8  7  9 11  6  9 10  7\n",
      " 12 11  8  8 10 11  6 11 10 10  6 12  9  9  5 10  6 18 10 14  5 13  8  4\n",
      "  5 16  8  9  9  9  7 16  8 11 13  9  7  7  6 10 11 10  9  8  8 10  8  9\n",
      " 11 10  6 16  9  8 10  8  8 18 12 12 13 10 10 15 16  4 10 13 11  7 10 12\n",
      " 12  9 13 11 11  9  8  4  9  9 11  6  9 17 10  9 10 10  8  9 10 11  7 10\n",
      "  9  7 15 11  9  6 11  7 19  8  9  7  8  9 11 10  7 11  9  8 12 11  9 10\n",
      " 10  7  3  8  7 12 12 11  9 19 10  8  9 10 14  8  8 12  7  8 15 12  7  9\n",
      "  8 10  8  7 10  8  6 13 10 11  8  6 11  9  8 11 10 14  9 12  8  7 11 14\n",
      " 12 18 10  8 10  6  9  3  5 12 12  9 11  8  4  9 13  9 19 10  9 11  8  8\n",
      " 10  7  7  6 11 16 11 14  7  7  6 18  6  9  7  9  6  8  9 10 10  8 14  7\n",
      "  8  9  6 10 12  6  8 17  7 14 11 12  5 17 17 11  9  7 10  5 13  7  9  7\n",
      " 10  8 10 14 10  9 10 10 18  6 10 14  7 15 13  9  9  8 10 14  8 12 13  8\n",
      " 10 11 10  6  8  7  9  9 12  6 10 10 13 17 17 15  7 15 12 11  9 10 12  8\n",
      "  9  9 13 10  8  8  8  4 11  7 14  8 10 11  8  7 13 10  7  9 10  6 10 11\n",
      "  9  4 10 10  8  5  8 17 11 10  3 12  9 10  7  9 14 11 11  8  9  7 15  8\n",
      " 11 10  8  8 11 14 12 13  9  9 12  9 11  8 11 11  9  6 12  6  7  9 11  8\n",
      " 14  8  8  9 12  7  9  3 13 17  5 11  9 13  8  6  8  6 11 16 10  7 10  9\n",
      " 11 11 11  8 12 11 10 11  8 13 15 11 10  6]\n",
      "Actual Quality 1649    10\n",
      "3285    13\n",
      "3510     9\n",
      "1502    11\n",
      "3729     9\n",
      "        ..\n",
      "2404    15\n",
      "496     12\n",
      "3799    11\n",
      "1022    11\n",
      "2312     8\n",
      "Name: Rings, Length: 806, dtype: int64\n"
     ]
    }
   ],
   "source": [
    "pred= dt.predict(x_test)\n",
    "print('Predicted Quality', pred)\n",
    "print('Actual Quality', y_test)"
   ]
  },
  {
   "cell_type": "code",
   "execution_count": 195,
   "id": "9c0563b8",
   "metadata": {},
   "outputs": [
    {
     "data": {
      "text/plain": [
       "1.0"
      ]
     },
     "execution_count": 195,
     "metadata": {},
     "output_type": "execute_result"
    }
   ],
   "source": [
    "dt.score(x_train,y_train)"
   ]
  },
  {
   "cell_type": "code",
   "execution_count": 196,
   "id": "230ebe5e",
   "metadata": {},
   "outputs": [
    {
     "name": "stdout",
     "output_type": "stream",
     "text": [
      "mean_absolute_error : 2.0397022332506203\n",
      "mean_squared_error : 7.80893300248139\n",
      "Root Mean Squared Error : 2.794446815110531\n"
     ]
    }
   ],
   "source": [
    "print('mean_absolute_error :', mean_absolute_error(y_test,pred))\n",
    "print('mean_squared_error :', mean_squared_error(y_test,pred))\n",
    "print('Root Mean Squared Error :', np.sqrt(mean_squared_error(y_test,pred)))"
   ]
  },
  {
   "cell_type": "code",
   "execution_count": 197,
   "id": "da12c602",
   "metadata": {},
   "outputs": [
    {
     "name": "stdout",
     "output_type": "stream",
     "text": [
      "accuracy score : 0.17990074441687345\n"
     ]
    }
   ],
   "source": [
    "print('accuracy score :',accuracy_score(y_test,pred))"
   ]
  },
  {
   "cell_type": "code",
   "execution_count": 198,
   "id": "e321cb16",
   "metadata": {},
   "outputs": [
    {
     "name": "stdout",
     "output_type": "stream",
     "text": [
      "0.08507938385890379\n"
     ]
    }
   ],
   "source": [
    "print(r2_score(y_test,pred))"
   ]
  },
  {
   "cell_type": "markdown",
   "id": "57246246",
   "metadata": {},
   "source": [
    "Random Forest"
   ]
  },
  {
   "cell_type": "code",
   "execution_count": 199,
   "id": "3477aa1c",
   "metadata": {},
   "outputs": [],
   "source": [
    "from sklearn.ensemble import RandomForestClassifier\n",
    "rf=RandomForestClassifier()"
   ]
  },
  {
   "cell_type": "code",
   "execution_count": 200,
   "id": "b24b2f3b",
   "metadata": {},
   "outputs": [
    {
     "data": {
      "text/plain": [
       "RandomForestClassifier()"
      ]
     },
     "execution_count": 200,
     "metadata": {},
     "output_type": "execute_result"
    }
   ],
   "source": [
    "rf.fit(x_train,y_train)"
   ]
  },
  {
   "cell_type": "code",
   "execution_count": null,
   "id": "20cbbd00",
   "metadata": {},
   "outputs": [],
   "source": [
    "# pred= rf.predict(x_test)\n",
    "print('Predicted Quality', pred)\n",
    "print('Actual Quality', y_test)"
   ]
  },
  {
   "cell_type": "code",
   "execution_count": 202,
   "id": "52ab57f5",
   "metadata": {},
   "outputs": [
    {
     "data": {
      "text/plain": [
       "1.0"
      ]
     },
     "execution_count": 202,
     "metadata": {},
     "output_type": "execute_result"
    }
   ],
   "source": [
    "rf.score(x_train,y_train)"
   ]
  },
  {
   "cell_type": "code",
   "execution_count": 203,
   "id": "19961193",
   "metadata": {},
   "outputs": [
    {
     "name": "stdout",
     "output_type": "stream",
     "text": [
      "mean_absolute_error : 1.4627791563275434\n",
      "mean_squared_error : 4.663771712158809\n",
      "Root Mean Squared Error : 2.1595767437529996\n"
     ]
    }
   ],
   "source": [
    "print('mean_absolute_error :', mean_absolute_error(y_test,pred))\n",
    "print('mean_squared_error :', mean_squared_error(y_test,pred))\n",
    "print('Root Mean Squared Error :', np.sqrt(mean_squared_error(y_test,pred)))"
   ]
  },
  {
   "cell_type": "code",
   "execution_count": 204,
   "id": "17356f99",
   "metadata": {},
   "outputs": [
    {
     "name": "stdout",
     "output_type": "stream",
     "text": [
      "accuracy score : 0.2803970223325062\n"
     ]
    }
   ],
   "source": [
    "print('accuracy score :',accuracy_score(y_test,pred))"
   ]
  },
  {
   "cell_type": "code",
   "execution_count": 205,
   "id": "4309038e",
   "metadata": {},
   "outputs": [
    {
     "name": "stdout",
     "output_type": "stream",
     "text": [
      "0.45357696280991733\n"
     ]
    }
   ],
   "source": [
    "print(r2_score(y_test,pred))"
   ]
  },
  {
   "cell_type": "markdown",
   "id": "4da447e6",
   "metadata": {},
   "source": [
    "# Linear Regression Model is working best."
   ]
  },
  {
   "cell_type": "code",
   "execution_count": null,
   "id": "bae84784",
   "metadata": {},
   "outputs": [],
   "source": []
  }
 ],
 "metadata": {
  "kernelspec": {
   "display_name": "Python 3 (ipykernel)",
   "language": "python",
   "name": "python3"
  },
  "language_info": {
   "codemirror_mode": {
    "name": "ipython",
    "version": 3
   },
   "file_extension": ".py",
   "mimetype": "text/x-python",
   "name": "python",
   "nbconvert_exporter": "python",
   "pygments_lexer": "ipython3",
   "version": "3.9.7"
  }
 },
 "nbformat": 4,
 "nbformat_minor": 5
}
